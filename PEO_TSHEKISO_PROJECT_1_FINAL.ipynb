{
  "cells": [
    {
      "cell_type": "markdown",
      "metadata": {
        "id": "kMKs3LuclvUR"
      },
      "source": [
        "STEP 1: DATA ANALYSIS AND VISUALISATION"
      ]
    },
    {
      "cell_type": "code",
      "execution_count": null,
      "metadata": {
        "id": "wf4dhlddTyP1"
      },
      "outputs": [],
      "source": [
        "#Import libraries (pandas, numpy, matplotlib, seaborn)\n",
        "import pandas as pd\n",
        "   # these are libraris that you import to begin any tak\n",
        "import matplotlib.pyplot as plt\n",
        "import nltk\n",
        "import numpy as np\n",
        "import scipy\n",
        "#import scikit.learn\n",
        "import seaborn as sns\n",
        "import tensorflow\n",
        "import keras\n",
        "#!pip3 install Pillow\n",
        "import plotly"
      ]
    },
    {
      "cell_type": "code",
      "execution_count": null,
      "metadata": {
        "id": "nAHAY9_uUJVp"
      },
      "outputs": [],
      "source": [
        "#Read the CSV data into a pandas DataFrame\n",
        "import pandas as pd\n",
        "CSE= pd.read_csv('/content/CSEdata.csv')\n"
      ]
    },
    {
      "cell_type": "code",
      "execution_count": null,
      "metadata": {
        "colab": {
          "base_uri": "https://localhost:8080/",
          "height": 383
        },
        "id": "uZuO7J_tB2At",
        "outputId": "a25d109c-58b6-4277-fdb4-aaee9b37126f"
      },
      "outputs": [
        {
          "output_type": "execute_result",
          "data": {
            "text/plain": [
              "   Id   Income  Age  Experience Married/Single House_Ownership Car_Ownership  \\\n",
              "0   1  1303834   23           3         single          rented            no   \n",
              "1   2  7574516   40          10         single          rented            no   \n",
              "2   3  3991815   66           4        married          rented            no   \n",
              "3   4  6256451   41           2         single          rented           yes   \n",
              "4   5  5768871   47          11         single          rented            no   \n",
              "5   6  6915937   64           0         single          rented            no   \n",
              "6   7  3954973   58          14        married          rented            no   \n",
              "7   8  1706172   33           2         single          rented            no   \n",
              "8   9  7566849   24          17         single          rented           yes   \n",
              "9  10  8964846   23          12         single          rented            no   \n",
              "\n",
              "            Profession                 CITY           STATE  CURRENT_JOB_YRS  \\\n",
              "0  Mechanical_engineer                 Rewa  Madhya_Pradesh              3.0   \n",
              "1   Software_Developer             Parbhani     Maharashtra              9.0   \n",
              "2     Technical_writer            Alappuzha          Kerala              4.0   \n",
              "3   Software_Developer          Bhubaneswar          Odisha              2.0   \n",
              "4        Civil_servant  Tiruchirappalli[10]      Tamil_Nadu              3.0   \n",
              "5        Civil_servant              Jalgaon     Maharashtra              0.0   \n",
              "6            Librarian             Tiruppur      Tamil_Nadu              8.0   \n",
              "7            Economist             Jamnagar         Gujarat              2.0   \n",
              "8     Flight_attendant              Kota[6]       Rajasthan             11.0   \n",
              "9            Architect           Karimnagar       Telangana              5.0   \n",
              "\n",
              "   CURRENT_HOUSE_YRS  Risk_Flag  \n",
              "0               13.0        0.0  \n",
              "1               13.0        0.0  \n",
              "2               10.0        0.0  \n",
              "3               12.0        1.0  \n",
              "4               14.0        1.0  \n",
              "5               12.0        0.0  \n",
              "6               12.0        0.0  \n",
              "7               14.0        0.0  \n",
              "8               11.0        0.0  \n",
              "9               13.0        0.0  "
            ],
            "text/html": [
              "\n",
              "  <div id=\"df-f9c3ca91-2a8a-4c5c-80c2-fcd96cc76abb\" class=\"colab-df-container\">\n",
              "    <div>\n",
              "<style scoped>\n",
              "    .dataframe tbody tr th:only-of-type {\n",
              "        vertical-align: middle;\n",
              "    }\n",
              "\n",
              "    .dataframe tbody tr th {\n",
              "        vertical-align: top;\n",
              "    }\n",
              "\n",
              "    .dataframe thead th {\n",
              "        text-align: right;\n",
              "    }\n",
              "</style>\n",
              "<table border=\"1\" class=\"dataframe\">\n",
              "  <thead>\n",
              "    <tr style=\"text-align: right;\">\n",
              "      <th></th>\n",
              "      <th>Id</th>\n",
              "      <th>Income</th>\n",
              "      <th>Age</th>\n",
              "      <th>Experience</th>\n",
              "      <th>Married/Single</th>\n",
              "      <th>House_Ownership</th>\n",
              "      <th>Car_Ownership</th>\n",
              "      <th>Profession</th>\n",
              "      <th>CITY</th>\n",
              "      <th>STATE</th>\n",
              "      <th>CURRENT_JOB_YRS</th>\n",
              "      <th>CURRENT_HOUSE_YRS</th>\n",
              "      <th>Risk_Flag</th>\n",
              "    </tr>\n",
              "  </thead>\n",
              "  <tbody>\n",
              "    <tr>\n",
              "      <th>0</th>\n",
              "      <td>1</td>\n",
              "      <td>1303834</td>\n",
              "      <td>23</td>\n",
              "      <td>3</td>\n",
              "      <td>single</td>\n",
              "      <td>rented</td>\n",
              "      <td>no</td>\n",
              "      <td>Mechanical_engineer</td>\n",
              "      <td>Rewa</td>\n",
              "      <td>Madhya_Pradesh</td>\n",
              "      <td>3.0</td>\n",
              "      <td>13.0</td>\n",
              "      <td>0.0</td>\n",
              "    </tr>\n",
              "    <tr>\n",
              "      <th>1</th>\n",
              "      <td>2</td>\n",
              "      <td>7574516</td>\n",
              "      <td>40</td>\n",
              "      <td>10</td>\n",
              "      <td>single</td>\n",
              "      <td>rented</td>\n",
              "      <td>no</td>\n",
              "      <td>Software_Developer</td>\n",
              "      <td>Parbhani</td>\n",
              "      <td>Maharashtra</td>\n",
              "      <td>9.0</td>\n",
              "      <td>13.0</td>\n",
              "      <td>0.0</td>\n",
              "    </tr>\n",
              "    <tr>\n",
              "      <th>2</th>\n",
              "      <td>3</td>\n",
              "      <td>3991815</td>\n",
              "      <td>66</td>\n",
              "      <td>4</td>\n",
              "      <td>married</td>\n",
              "      <td>rented</td>\n",
              "      <td>no</td>\n",
              "      <td>Technical_writer</td>\n",
              "      <td>Alappuzha</td>\n",
              "      <td>Kerala</td>\n",
              "      <td>4.0</td>\n",
              "      <td>10.0</td>\n",
              "      <td>0.0</td>\n",
              "    </tr>\n",
              "    <tr>\n",
              "      <th>3</th>\n",
              "      <td>4</td>\n",
              "      <td>6256451</td>\n",
              "      <td>41</td>\n",
              "      <td>2</td>\n",
              "      <td>single</td>\n",
              "      <td>rented</td>\n",
              "      <td>yes</td>\n",
              "      <td>Software_Developer</td>\n",
              "      <td>Bhubaneswar</td>\n",
              "      <td>Odisha</td>\n",
              "      <td>2.0</td>\n",
              "      <td>12.0</td>\n",
              "      <td>1.0</td>\n",
              "    </tr>\n",
              "    <tr>\n",
              "      <th>4</th>\n",
              "      <td>5</td>\n",
              "      <td>5768871</td>\n",
              "      <td>47</td>\n",
              "      <td>11</td>\n",
              "      <td>single</td>\n",
              "      <td>rented</td>\n",
              "      <td>no</td>\n",
              "      <td>Civil_servant</td>\n",
              "      <td>Tiruchirappalli[10]</td>\n",
              "      <td>Tamil_Nadu</td>\n",
              "      <td>3.0</td>\n",
              "      <td>14.0</td>\n",
              "      <td>1.0</td>\n",
              "    </tr>\n",
              "    <tr>\n",
              "      <th>5</th>\n",
              "      <td>6</td>\n",
              "      <td>6915937</td>\n",
              "      <td>64</td>\n",
              "      <td>0</td>\n",
              "      <td>single</td>\n",
              "      <td>rented</td>\n",
              "      <td>no</td>\n",
              "      <td>Civil_servant</td>\n",
              "      <td>Jalgaon</td>\n",
              "      <td>Maharashtra</td>\n",
              "      <td>0.0</td>\n",
              "      <td>12.0</td>\n",
              "      <td>0.0</td>\n",
              "    </tr>\n",
              "    <tr>\n",
              "      <th>6</th>\n",
              "      <td>7</td>\n",
              "      <td>3954973</td>\n",
              "      <td>58</td>\n",
              "      <td>14</td>\n",
              "      <td>married</td>\n",
              "      <td>rented</td>\n",
              "      <td>no</td>\n",
              "      <td>Librarian</td>\n",
              "      <td>Tiruppur</td>\n",
              "      <td>Tamil_Nadu</td>\n",
              "      <td>8.0</td>\n",
              "      <td>12.0</td>\n",
              "      <td>0.0</td>\n",
              "    </tr>\n",
              "    <tr>\n",
              "      <th>7</th>\n",
              "      <td>8</td>\n",
              "      <td>1706172</td>\n",
              "      <td>33</td>\n",
              "      <td>2</td>\n",
              "      <td>single</td>\n",
              "      <td>rented</td>\n",
              "      <td>no</td>\n",
              "      <td>Economist</td>\n",
              "      <td>Jamnagar</td>\n",
              "      <td>Gujarat</td>\n",
              "      <td>2.0</td>\n",
              "      <td>14.0</td>\n",
              "      <td>0.0</td>\n",
              "    </tr>\n",
              "    <tr>\n",
              "      <th>8</th>\n",
              "      <td>9</td>\n",
              "      <td>7566849</td>\n",
              "      <td>24</td>\n",
              "      <td>17</td>\n",
              "      <td>single</td>\n",
              "      <td>rented</td>\n",
              "      <td>yes</td>\n",
              "      <td>Flight_attendant</td>\n",
              "      <td>Kota[6]</td>\n",
              "      <td>Rajasthan</td>\n",
              "      <td>11.0</td>\n",
              "      <td>11.0</td>\n",
              "      <td>0.0</td>\n",
              "    </tr>\n",
              "    <tr>\n",
              "      <th>9</th>\n",
              "      <td>10</td>\n",
              "      <td>8964846</td>\n",
              "      <td>23</td>\n",
              "      <td>12</td>\n",
              "      <td>single</td>\n",
              "      <td>rented</td>\n",
              "      <td>no</td>\n",
              "      <td>Architect</td>\n",
              "      <td>Karimnagar</td>\n",
              "      <td>Telangana</td>\n",
              "      <td>5.0</td>\n",
              "      <td>13.0</td>\n",
              "      <td>0.0</td>\n",
              "    </tr>\n",
              "  </tbody>\n",
              "</table>\n",
              "</div>\n",
              "    <div class=\"colab-df-buttons\">\n",
              "\n",
              "  <div class=\"colab-df-container\">\n",
              "    <button class=\"colab-df-convert\" onclick=\"convertToInteractive('df-f9c3ca91-2a8a-4c5c-80c2-fcd96cc76abb')\"\n",
              "            title=\"Convert this dataframe to an interactive table.\"\n",
              "            style=\"display:none;\">\n",
              "\n",
              "  <svg xmlns=\"http://www.w3.org/2000/svg\" height=\"24px\" viewBox=\"0 -960 960 960\">\n",
              "    <path d=\"M120-120v-720h720v720H120Zm60-500h600v-160H180v160Zm220 220h160v-160H400v160Zm0 220h160v-160H400v160ZM180-400h160v-160H180v160Zm440 0h160v-160H620v160ZM180-180h160v-160H180v160Zm440 0h160v-160H620v160Z\"/>\n",
              "  </svg>\n",
              "    </button>\n",
              "\n",
              "  <style>\n",
              "    .colab-df-container {\n",
              "      display:flex;\n",
              "      gap: 12px;\n",
              "    }\n",
              "\n",
              "    .colab-df-convert {\n",
              "      background-color: #E8F0FE;\n",
              "      border: none;\n",
              "      border-radius: 50%;\n",
              "      cursor: pointer;\n",
              "      display: none;\n",
              "      fill: #1967D2;\n",
              "      height: 32px;\n",
              "      padding: 0 0 0 0;\n",
              "      width: 32px;\n",
              "    }\n",
              "\n",
              "    .colab-df-convert:hover {\n",
              "      background-color: #E2EBFA;\n",
              "      box-shadow: 0px 1px 2px rgba(60, 64, 67, 0.3), 0px 1px 3px 1px rgba(60, 64, 67, 0.15);\n",
              "      fill: #174EA6;\n",
              "    }\n",
              "\n",
              "    .colab-df-buttons div {\n",
              "      margin-bottom: 4px;\n",
              "    }\n",
              "\n",
              "    [theme=dark] .colab-df-convert {\n",
              "      background-color: #3B4455;\n",
              "      fill: #D2E3FC;\n",
              "    }\n",
              "\n",
              "    [theme=dark] .colab-df-convert:hover {\n",
              "      background-color: #434B5C;\n",
              "      box-shadow: 0px 1px 3px 1px rgba(0, 0, 0, 0.15);\n",
              "      filter: drop-shadow(0px 1px 2px rgba(0, 0, 0, 0.3));\n",
              "      fill: #FFFFFF;\n",
              "    }\n",
              "  </style>\n",
              "\n",
              "    <script>\n",
              "      const buttonEl =\n",
              "        document.querySelector('#df-f9c3ca91-2a8a-4c5c-80c2-fcd96cc76abb button.colab-df-convert');\n",
              "      buttonEl.style.display =\n",
              "        google.colab.kernel.accessAllowed ? 'block' : 'none';\n",
              "\n",
              "      async function convertToInteractive(key) {\n",
              "        const element = document.querySelector('#df-f9c3ca91-2a8a-4c5c-80c2-fcd96cc76abb');\n",
              "        const dataTable =\n",
              "          await google.colab.kernel.invokeFunction('convertToInteractive',\n",
              "                                                    [key], {});\n",
              "        if (!dataTable) return;\n",
              "\n",
              "        const docLinkHtml = 'Like what you see? Visit the ' +\n",
              "          '<a target=\"_blank\" href=https://colab.research.google.com/notebooks/data_table.ipynb>data table notebook</a>'\n",
              "          + ' to learn more about interactive tables.';\n",
              "        element.innerHTML = '';\n",
              "        dataTable['output_type'] = 'display_data';\n",
              "        await google.colab.output.renderOutput(dataTable, element);\n",
              "        const docLink = document.createElement('div');\n",
              "        docLink.innerHTML = docLinkHtml;\n",
              "        element.appendChild(docLink);\n",
              "      }\n",
              "    </script>\n",
              "  </div>\n",
              "\n",
              "\n",
              "<div id=\"df-fea1c31f-ce25-4984-bdd1-4bb51a95205a\">\n",
              "  <button class=\"colab-df-quickchart\" onclick=\"quickchart('df-fea1c31f-ce25-4984-bdd1-4bb51a95205a')\"\n",
              "            title=\"Suggest charts\"\n",
              "            style=\"display:none;\">\n",
              "\n",
              "<svg xmlns=\"http://www.w3.org/2000/svg\" height=\"24px\"viewBox=\"0 0 24 24\"\n",
              "     width=\"24px\">\n",
              "    <g>\n",
              "        <path d=\"M19 3H5c-1.1 0-2 .9-2 2v14c0 1.1.9 2 2 2h14c1.1 0 2-.9 2-2V5c0-1.1-.9-2-2-2zM9 17H7v-7h2v7zm4 0h-2V7h2v10zm4 0h-2v-4h2v4z\"/>\n",
              "    </g>\n",
              "</svg>\n",
              "  </button>\n",
              "\n",
              "<style>\n",
              "  .colab-df-quickchart {\n",
              "      --bg-color: #E8F0FE;\n",
              "      --fill-color: #1967D2;\n",
              "      --hover-bg-color: #E2EBFA;\n",
              "      --hover-fill-color: #174EA6;\n",
              "      --disabled-fill-color: #AAA;\n",
              "      --disabled-bg-color: #DDD;\n",
              "  }\n",
              "\n",
              "  [theme=dark] .colab-df-quickchart {\n",
              "      --bg-color: #3B4455;\n",
              "      --fill-color: #D2E3FC;\n",
              "      --hover-bg-color: #434B5C;\n",
              "      --hover-fill-color: #FFFFFF;\n",
              "      --disabled-bg-color: #3B4455;\n",
              "      --disabled-fill-color: #666;\n",
              "  }\n",
              "\n",
              "  .colab-df-quickchart {\n",
              "    background-color: var(--bg-color);\n",
              "    border: none;\n",
              "    border-radius: 50%;\n",
              "    cursor: pointer;\n",
              "    display: none;\n",
              "    fill: var(--fill-color);\n",
              "    height: 32px;\n",
              "    padding: 0;\n",
              "    width: 32px;\n",
              "  }\n",
              "\n",
              "  .colab-df-quickchart:hover {\n",
              "    background-color: var(--hover-bg-color);\n",
              "    box-shadow: 0 1px 2px rgba(60, 64, 67, 0.3), 0 1px 3px 1px rgba(60, 64, 67, 0.15);\n",
              "    fill: var(--button-hover-fill-color);\n",
              "  }\n",
              "\n",
              "  .colab-df-quickchart-complete:disabled,\n",
              "  .colab-df-quickchart-complete:disabled:hover {\n",
              "    background-color: var(--disabled-bg-color);\n",
              "    fill: var(--disabled-fill-color);\n",
              "    box-shadow: none;\n",
              "  }\n",
              "\n",
              "  .colab-df-spinner {\n",
              "    border: 2px solid var(--fill-color);\n",
              "    border-color: transparent;\n",
              "    border-bottom-color: var(--fill-color);\n",
              "    animation:\n",
              "      spin 1s steps(1) infinite;\n",
              "  }\n",
              "\n",
              "  @keyframes spin {\n",
              "    0% {\n",
              "      border-color: transparent;\n",
              "      border-bottom-color: var(--fill-color);\n",
              "      border-left-color: var(--fill-color);\n",
              "    }\n",
              "    20% {\n",
              "      border-color: transparent;\n",
              "      border-left-color: var(--fill-color);\n",
              "      border-top-color: var(--fill-color);\n",
              "    }\n",
              "    30% {\n",
              "      border-color: transparent;\n",
              "      border-left-color: var(--fill-color);\n",
              "      border-top-color: var(--fill-color);\n",
              "      border-right-color: var(--fill-color);\n",
              "    }\n",
              "    40% {\n",
              "      border-color: transparent;\n",
              "      border-right-color: var(--fill-color);\n",
              "      border-top-color: var(--fill-color);\n",
              "    }\n",
              "    60% {\n",
              "      border-color: transparent;\n",
              "      border-right-color: var(--fill-color);\n",
              "    }\n",
              "    80% {\n",
              "      border-color: transparent;\n",
              "      border-right-color: var(--fill-color);\n",
              "      border-bottom-color: var(--fill-color);\n",
              "    }\n",
              "    90% {\n",
              "      border-color: transparent;\n",
              "      border-bottom-color: var(--fill-color);\n",
              "    }\n",
              "  }\n",
              "</style>\n",
              "\n",
              "  <script>\n",
              "    async function quickchart(key) {\n",
              "      const quickchartButtonEl =\n",
              "        document.querySelector('#' + key + ' button');\n",
              "      quickchartButtonEl.disabled = true;  // To prevent multiple clicks.\n",
              "      quickchartButtonEl.classList.add('colab-df-spinner');\n",
              "      try {\n",
              "        const charts = await google.colab.kernel.invokeFunction(\n",
              "            'suggestCharts', [key], {});\n",
              "      } catch (error) {\n",
              "        console.error('Error during call to suggestCharts:', error);\n",
              "      }\n",
              "      quickchartButtonEl.classList.remove('colab-df-spinner');\n",
              "      quickchartButtonEl.classList.add('colab-df-quickchart-complete');\n",
              "    }\n",
              "    (() => {\n",
              "      let quickchartButtonEl =\n",
              "        document.querySelector('#df-fea1c31f-ce25-4984-bdd1-4bb51a95205a button');\n",
              "      quickchartButtonEl.style.display =\n",
              "        google.colab.kernel.accessAllowed ? 'block' : 'none';\n",
              "    })();\n",
              "  </script>\n",
              "</div>\n",
              "\n",
              "    </div>\n",
              "  </div>\n"
            ],
            "application/vnd.google.colaboratory.intrinsic+json": {
              "type": "dataframe",
              "variable_name": "CSE",
              "summary": "{\n  \"name\": \"CSE\",\n  \"rows\": 39808,\n  \"fields\": [\n    {\n      \"column\": \"Id\",\n      \"properties\": {\n        \"dtype\": \"number\",\n        \"std\": 11491,\n        \"min\": 1,\n        \"max\": 39808,\n        \"num_unique_values\": 39808,\n        \"samples\": [\n          30569,\n          11873,\n          38652\n        ],\n        \"semantic_type\": \"\",\n        \"description\": \"\"\n      }\n    },\n    {\n      \"column\": \"Income\",\n      \"properties\": {\n        \"dtype\": \"number\",\n        \"std\": 2877373,\n        \"min\": 10310,\n        \"max\": 9999180,\n        \"num_unique_values\": 5999,\n        \"samples\": [\n          4700701,\n          1085302,\n          5733421\n        ],\n        \"semantic_type\": \"\",\n        \"description\": \"\"\n      }\n    },\n    {\n      \"column\": \"Age\",\n      \"properties\": {\n        \"dtype\": \"number\",\n        \"std\": 17,\n        \"min\": 21,\n        \"max\": 79,\n        \"num_unique_values\": 59,\n        \"samples\": [\n          23,\n          64,\n          73\n        ],\n        \"semantic_type\": \"\",\n        \"description\": \"\"\n      }\n    },\n    {\n      \"column\": \"Experience\",\n      \"properties\": {\n        \"dtype\": \"number\",\n        \"std\": 6,\n        \"min\": 0,\n        \"max\": 20,\n        \"num_unique_values\": 21,\n        \"samples\": [\n          3,\n          20,\n          19\n        ],\n        \"semantic_type\": \"\",\n        \"description\": \"\"\n      }\n    },\n    {\n      \"column\": \"Married/Single\",\n      \"properties\": {\n        \"dtype\": \"category\",\n        \"num_unique_values\": 2,\n        \"samples\": [\n          \"married\",\n          \"single\"\n        ],\n        \"semantic_type\": \"\",\n        \"description\": \"\"\n      }\n    },\n    {\n      \"column\": \"House_Ownership\",\n      \"properties\": {\n        \"dtype\": \"category\",\n        \"num_unique_values\": 3,\n        \"samples\": [\n          \"rented\",\n          \"norent_noown\"\n        ],\n        \"semantic_type\": \"\",\n        \"description\": \"\"\n      }\n    },\n    {\n      \"column\": \"Car_Ownership\",\n      \"properties\": {\n        \"dtype\": \"category\",\n        \"num_unique_values\": 2,\n        \"samples\": [\n          \"yes\",\n          \"no\"\n        ],\n        \"semantic_type\": \"\",\n        \"description\": \"\"\n      }\n    },\n    {\n      \"column\": \"Profession\",\n      \"properties\": {\n        \"dtype\": \"category\",\n        \"num_unique_values\": 52,\n        \"samples\": [\n          \"Dentist\",\n          \"Statistician\"\n        ],\n        \"semantic_type\": \"\",\n        \"description\": \"\"\n      }\n    },\n    {\n      \"column\": \"CITY\",\n      \"properties\": {\n        \"dtype\": \"category\",\n        \"num_unique_values\": 317,\n        \"samples\": [\n          \"Deoghar\",\n          \"Bikaner\"\n        ],\n        \"semantic_type\": \"\",\n        \"description\": \"\"\n      }\n    },\n    {\n      \"column\": \"STATE\",\n      \"properties\": {\n        \"dtype\": \"category\",\n        \"num_unique_values\": 29,\n        \"samples\": [\n          \"Manipur\",\n          \"Punjab\"\n        ],\n        \"semantic_type\": \"\",\n        \"description\": \"\"\n      }\n    },\n    {\n      \"column\": \"CURRENT_JOB_YRS\",\n      \"properties\": {\n        \"dtype\": \"number\",\n        \"std\": 3.6496413048922385,\n        \"min\": 0.0,\n        \"max\": 14.0,\n        \"num_unique_values\": 15,\n        \"samples\": [\n          6.0,\n          1.0\n        ],\n        \"semantic_type\": \"\",\n        \"description\": \"\"\n      }\n    },\n    {\n      \"column\": \"CURRENT_HOUSE_YRS\",\n      \"properties\": {\n        \"dtype\": \"number\",\n        \"std\": 1.395386071130208,\n        \"min\": 10.0,\n        \"max\": 14.0,\n        \"num_unique_values\": 5,\n        \"samples\": [\n          10.0,\n          11.0\n        ],\n        \"semantic_type\": \"\",\n        \"description\": \"\"\n      }\n    },\n    {\n      \"column\": \"Risk_Flag\",\n      \"properties\": {\n        \"dtype\": \"number\",\n        \"std\": 0.33902616991439555,\n        \"min\": 0.0,\n        \"max\": 1.0,\n        \"num_unique_values\": 2,\n        \"samples\": [\n          1.0,\n          0.0\n        ],\n        \"semantic_type\": \"\",\n        \"description\": \"\"\n      }\n    }\n  ]\n}"
            }
          },
          "metadata": {},
          "execution_count": 3
        }
      ],
      "source": [
        "#Check the first few rows\n",
        "CSE.head(10)"
      ]
    },
    {
      "cell_type": "code",
      "execution_count": null,
      "metadata": {
        "colab": {
          "base_uri": "https://localhost:8080/",
          "height": 400
        },
        "id": "Vx9wlugpE_xj",
        "outputId": "d17c5afc-926a-4212-f1cc-2595d00bd905"
      },
      "outputs": [
        {
          "output_type": "execute_result",
          "data": {
            "text/plain": [
              "          Id   Income  Age  Experience Married/Single House_Ownership  \\\n",
              "39798  39799  8053436   42           8         single          rented   \n",
              "39799  39800  2116651   55          18         single          rented   \n",
              "39800  39801   228131   30           5         single          rented   \n",
              "39801  39802   600473   24          11         single          rented   \n",
              "39802  39803  8964405   67          15         single          rented   \n",
              "39803  39804  3246861   79           2         single          rented   \n",
              "39804  39805  1478769   22          14         single          rented   \n",
              "39805  39806  9541394   22          15         single          rented   \n",
              "39806  39807   704775   33           8         single          rented   \n",
              "39807  39808  7951428   63          12         single          rented   \n",
              "\n",
              "      Car_Ownership        Profession             CITY             STATE  \\\n",
              "39798            no              Chef  Mysore[7][8][9]         Karnataka   \n",
              "39799           yes  Graphic_Designer         Suryapet         Telangana   \n",
              "39800            no        Technician         Kakinada    Andhra_Pradesh   \n",
              "39801            no           Analyst        Faridabad           Haryana   \n",
              "39802            no           Surgeon           Kavali    Andhra_Pradesh   \n",
              "39803           yes           Aviator            Adoni    Andhra_Pradesh   \n",
              "39804            no         Secretary           Shimla  Himachal_Pradesh   \n",
              "39805           yes         Scientist             Rewa    Madhya_Pradesh   \n",
              "39806            no      Army_officer       Saharanpur     Uttar_Pradesh   \n",
              "39807           yes               Hot              NaN               NaN   \n",
              "\n",
              "       CURRENT_JOB_YRS  CURRENT_HOUSE_YRS  Risk_Flag  \n",
              "39798              8.0               11.0        1.0  \n",
              "39799             12.0               14.0        0.0  \n",
              "39800              5.0               12.0        1.0  \n",
              "39801              6.0               14.0        1.0  \n",
              "39802              8.0               10.0        0.0  \n",
              "39803              2.0               13.0        0.0  \n",
              "39804              8.0               12.0        0.0  \n",
              "39805             12.0               11.0        0.0  \n",
              "39806              4.0               14.0        0.0  \n",
              "39807              NaN                NaN        NaN  "
            ],
            "text/html": [
              "\n",
              "  <div id=\"df-55a0cd06-f9f6-4745-a169-cfc173edf7df\" class=\"colab-df-container\">\n",
              "    <div>\n",
              "<style scoped>\n",
              "    .dataframe tbody tr th:only-of-type {\n",
              "        vertical-align: middle;\n",
              "    }\n",
              "\n",
              "    .dataframe tbody tr th {\n",
              "        vertical-align: top;\n",
              "    }\n",
              "\n",
              "    .dataframe thead th {\n",
              "        text-align: right;\n",
              "    }\n",
              "</style>\n",
              "<table border=\"1\" class=\"dataframe\">\n",
              "  <thead>\n",
              "    <tr style=\"text-align: right;\">\n",
              "      <th></th>\n",
              "      <th>Id</th>\n",
              "      <th>Income</th>\n",
              "      <th>Age</th>\n",
              "      <th>Experience</th>\n",
              "      <th>Married/Single</th>\n",
              "      <th>House_Ownership</th>\n",
              "      <th>Car_Ownership</th>\n",
              "      <th>Profession</th>\n",
              "      <th>CITY</th>\n",
              "      <th>STATE</th>\n",
              "      <th>CURRENT_JOB_YRS</th>\n",
              "      <th>CURRENT_HOUSE_YRS</th>\n",
              "      <th>Risk_Flag</th>\n",
              "    </tr>\n",
              "  </thead>\n",
              "  <tbody>\n",
              "    <tr>\n",
              "      <th>39798</th>\n",
              "      <td>39799</td>\n",
              "      <td>8053436</td>\n",
              "      <td>42</td>\n",
              "      <td>8</td>\n",
              "      <td>single</td>\n",
              "      <td>rented</td>\n",
              "      <td>no</td>\n",
              "      <td>Chef</td>\n",
              "      <td>Mysore[7][8][9]</td>\n",
              "      <td>Karnataka</td>\n",
              "      <td>8.0</td>\n",
              "      <td>11.0</td>\n",
              "      <td>1.0</td>\n",
              "    </tr>\n",
              "    <tr>\n",
              "      <th>39799</th>\n",
              "      <td>39800</td>\n",
              "      <td>2116651</td>\n",
              "      <td>55</td>\n",
              "      <td>18</td>\n",
              "      <td>single</td>\n",
              "      <td>rented</td>\n",
              "      <td>yes</td>\n",
              "      <td>Graphic_Designer</td>\n",
              "      <td>Suryapet</td>\n",
              "      <td>Telangana</td>\n",
              "      <td>12.0</td>\n",
              "      <td>14.0</td>\n",
              "      <td>0.0</td>\n",
              "    </tr>\n",
              "    <tr>\n",
              "      <th>39800</th>\n",
              "      <td>39801</td>\n",
              "      <td>228131</td>\n",
              "      <td>30</td>\n",
              "      <td>5</td>\n",
              "      <td>single</td>\n",
              "      <td>rented</td>\n",
              "      <td>no</td>\n",
              "      <td>Technician</td>\n",
              "      <td>Kakinada</td>\n",
              "      <td>Andhra_Pradesh</td>\n",
              "      <td>5.0</td>\n",
              "      <td>12.0</td>\n",
              "      <td>1.0</td>\n",
              "    </tr>\n",
              "    <tr>\n",
              "      <th>39801</th>\n",
              "      <td>39802</td>\n",
              "      <td>600473</td>\n",
              "      <td>24</td>\n",
              "      <td>11</td>\n",
              "      <td>single</td>\n",
              "      <td>rented</td>\n",
              "      <td>no</td>\n",
              "      <td>Analyst</td>\n",
              "      <td>Faridabad</td>\n",
              "      <td>Haryana</td>\n",
              "      <td>6.0</td>\n",
              "      <td>14.0</td>\n",
              "      <td>1.0</td>\n",
              "    </tr>\n",
              "    <tr>\n",
              "      <th>39802</th>\n",
              "      <td>39803</td>\n",
              "      <td>8964405</td>\n",
              "      <td>67</td>\n",
              "      <td>15</td>\n",
              "      <td>single</td>\n",
              "      <td>rented</td>\n",
              "      <td>no</td>\n",
              "      <td>Surgeon</td>\n",
              "      <td>Kavali</td>\n",
              "      <td>Andhra_Pradesh</td>\n",
              "      <td>8.0</td>\n",
              "      <td>10.0</td>\n",
              "      <td>0.0</td>\n",
              "    </tr>\n",
              "    <tr>\n",
              "      <th>39803</th>\n",
              "      <td>39804</td>\n",
              "      <td>3246861</td>\n",
              "      <td>79</td>\n",
              "      <td>2</td>\n",
              "      <td>single</td>\n",
              "      <td>rented</td>\n",
              "      <td>yes</td>\n",
              "      <td>Aviator</td>\n",
              "      <td>Adoni</td>\n",
              "      <td>Andhra_Pradesh</td>\n",
              "      <td>2.0</td>\n",
              "      <td>13.0</td>\n",
              "      <td>0.0</td>\n",
              "    </tr>\n",
              "    <tr>\n",
              "      <th>39804</th>\n",
              "      <td>39805</td>\n",
              "      <td>1478769</td>\n",
              "      <td>22</td>\n",
              "      <td>14</td>\n",
              "      <td>single</td>\n",
              "      <td>rented</td>\n",
              "      <td>no</td>\n",
              "      <td>Secretary</td>\n",
              "      <td>Shimla</td>\n",
              "      <td>Himachal_Pradesh</td>\n",
              "      <td>8.0</td>\n",
              "      <td>12.0</td>\n",
              "      <td>0.0</td>\n",
              "    </tr>\n",
              "    <tr>\n",
              "      <th>39805</th>\n",
              "      <td>39806</td>\n",
              "      <td>9541394</td>\n",
              "      <td>22</td>\n",
              "      <td>15</td>\n",
              "      <td>single</td>\n",
              "      <td>rented</td>\n",
              "      <td>yes</td>\n",
              "      <td>Scientist</td>\n",
              "      <td>Rewa</td>\n",
              "      <td>Madhya_Pradesh</td>\n",
              "      <td>12.0</td>\n",
              "      <td>11.0</td>\n",
              "      <td>0.0</td>\n",
              "    </tr>\n",
              "    <tr>\n",
              "      <th>39806</th>\n",
              "      <td>39807</td>\n",
              "      <td>704775</td>\n",
              "      <td>33</td>\n",
              "      <td>8</td>\n",
              "      <td>single</td>\n",
              "      <td>rented</td>\n",
              "      <td>no</td>\n",
              "      <td>Army_officer</td>\n",
              "      <td>Saharanpur</td>\n",
              "      <td>Uttar_Pradesh</td>\n",
              "      <td>4.0</td>\n",
              "      <td>14.0</td>\n",
              "      <td>0.0</td>\n",
              "    </tr>\n",
              "    <tr>\n",
              "      <th>39807</th>\n",
              "      <td>39808</td>\n",
              "      <td>7951428</td>\n",
              "      <td>63</td>\n",
              "      <td>12</td>\n",
              "      <td>single</td>\n",
              "      <td>rented</td>\n",
              "      <td>yes</td>\n",
              "      <td>Hot</td>\n",
              "      <td>NaN</td>\n",
              "      <td>NaN</td>\n",
              "      <td>NaN</td>\n",
              "      <td>NaN</td>\n",
              "      <td>NaN</td>\n",
              "    </tr>\n",
              "  </tbody>\n",
              "</table>\n",
              "</div>\n",
              "    <div class=\"colab-df-buttons\">\n",
              "\n",
              "  <div class=\"colab-df-container\">\n",
              "    <button class=\"colab-df-convert\" onclick=\"convertToInteractive('df-55a0cd06-f9f6-4745-a169-cfc173edf7df')\"\n",
              "            title=\"Convert this dataframe to an interactive table.\"\n",
              "            style=\"display:none;\">\n",
              "\n",
              "  <svg xmlns=\"http://www.w3.org/2000/svg\" height=\"24px\" viewBox=\"0 -960 960 960\">\n",
              "    <path d=\"M120-120v-720h720v720H120Zm60-500h600v-160H180v160Zm220 220h160v-160H400v160Zm0 220h160v-160H400v160ZM180-400h160v-160H180v160Zm440 0h160v-160H620v160ZM180-180h160v-160H180v160Zm440 0h160v-160H620v160Z\"/>\n",
              "  </svg>\n",
              "    </button>\n",
              "\n",
              "  <style>\n",
              "    .colab-df-container {\n",
              "      display:flex;\n",
              "      gap: 12px;\n",
              "    }\n",
              "\n",
              "    .colab-df-convert {\n",
              "      background-color: #E8F0FE;\n",
              "      border: none;\n",
              "      border-radius: 50%;\n",
              "      cursor: pointer;\n",
              "      display: none;\n",
              "      fill: #1967D2;\n",
              "      height: 32px;\n",
              "      padding: 0 0 0 0;\n",
              "      width: 32px;\n",
              "    }\n",
              "\n",
              "    .colab-df-convert:hover {\n",
              "      background-color: #E2EBFA;\n",
              "      box-shadow: 0px 1px 2px rgba(60, 64, 67, 0.3), 0px 1px 3px 1px rgba(60, 64, 67, 0.15);\n",
              "      fill: #174EA6;\n",
              "    }\n",
              "\n",
              "    .colab-df-buttons div {\n",
              "      margin-bottom: 4px;\n",
              "    }\n",
              "\n",
              "    [theme=dark] .colab-df-convert {\n",
              "      background-color: #3B4455;\n",
              "      fill: #D2E3FC;\n",
              "    }\n",
              "\n",
              "    [theme=dark] .colab-df-convert:hover {\n",
              "      background-color: #434B5C;\n",
              "      box-shadow: 0px 1px 3px 1px rgba(0, 0, 0, 0.15);\n",
              "      filter: drop-shadow(0px 1px 2px rgba(0, 0, 0, 0.3));\n",
              "      fill: #FFFFFF;\n",
              "    }\n",
              "  </style>\n",
              "\n",
              "    <script>\n",
              "      const buttonEl =\n",
              "        document.querySelector('#df-55a0cd06-f9f6-4745-a169-cfc173edf7df button.colab-df-convert');\n",
              "      buttonEl.style.display =\n",
              "        google.colab.kernel.accessAllowed ? 'block' : 'none';\n",
              "\n",
              "      async function convertToInteractive(key) {\n",
              "        const element = document.querySelector('#df-55a0cd06-f9f6-4745-a169-cfc173edf7df');\n",
              "        const dataTable =\n",
              "          await google.colab.kernel.invokeFunction('convertToInteractive',\n",
              "                                                    [key], {});\n",
              "        if (!dataTable) return;\n",
              "\n",
              "        const docLinkHtml = 'Like what you see? Visit the ' +\n",
              "          '<a target=\"_blank\" href=https://colab.research.google.com/notebooks/data_table.ipynb>data table notebook</a>'\n",
              "          + ' to learn more about interactive tables.';\n",
              "        element.innerHTML = '';\n",
              "        dataTable['output_type'] = 'display_data';\n",
              "        await google.colab.output.renderOutput(dataTable, element);\n",
              "        const docLink = document.createElement('div');\n",
              "        docLink.innerHTML = docLinkHtml;\n",
              "        element.appendChild(docLink);\n",
              "      }\n",
              "    </script>\n",
              "  </div>\n",
              "\n",
              "\n",
              "<div id=\"df-e5def6de-c9ab-4905-9f51-2c6ce7a89d81\">\n",
              "  <button class=\"colab-df-quickchart\" onclick=\"quickchart('df-e5def6de-c9ab-4905-9f51-2c6ce7a89d81')\"\n",
              "            title=\"Suggest charts\"\n",
              "            style=\"display:none;\">\n",
              "\n",
              "<svg xmlns=\"http://www.w3.org/2000/svg\" height=\"24px\"viewBox=\"0 0 24 24\"\n",
              "     width=\"24px\">\n",
              "    <g>\n",
              "        <path d=\"M19 3H5c-1.1 0-2 .9-2 2v14c0 1.1.9 2 2 2h14c1.1 0 2-.9 2-2V5c0-1.1-.9-2-2-2zM9 17H7v-7h2v7zm4 0h-2V7h2v10zm4 0h-2v-4h2v4z\"/>\n",
              "    </g>\n",
              "</svg>\n",
              "  </button>\n",
              "\n",
              "<style>\n",
              "  .colab-df-quickchart {\n",
              "      --bg-color: #E8F0FE;\n",
              "      --fill-color: #1967D2;\n",
              "      --hover-bg-color: #E2EBFA;\n",
              "      --hover-fill-color: #174EA6;\n",
              "      --disabled-fill-color: #AAA;\n",
              "      --disabled-bg-color: #DDD;\n",
              "  }\n",
              "\n",
              "  [theme=dark] .colab-df-quickchart {\n",
              "      --bg-color: #3B4455;\n",
              "      --fill-color: #D2E3FC;\n",
              "      --hover-bg-color: #434B5C;\n",
              "      --hover-fill-color: #FFFFFF;\n",
              "      --disabled-bg-color: #3B4455;\n",
              "      --disabled-fill-color: #666;\n",
              "  }\n",
              "\n",
              "  .colab-df-quickchart {\n",
              "    background-color: var(--bg-color);\n",
              "    border: none;\n",
              "    border-radius: 50%;\n",
              "    cursor: pointer;\n",
              "    display: none;\n",
              "    fill: var(--fill-color);\n",
              "    height: 32px;\n",
              "    padding: 0;\n",
              "    width: 32px;\n",
              "  }\n",
              "\n",
              "  .colab-df-quickchart:hover {\n",
              "    background-color: var(--hover-bg-color);\n",
              "    box-shadow: 0 1px 2px rgba(60, 64, 67, 0.3), 0 1px 3px 1px rgba(60, 64, 67, 0.15);\n",
              "    fill: var(--button-hover-fill-color);\n",
              "  }\n",
              "\n",
              "  .colab-df-quickchart-complete:disabled,\n",
              "  .colab-df-quickchart-complete:disabled:hover {\n",
              "    background-color: var(--disabled-bg-color);\n",
              "    fill: var(--disabled-fill-color);\n",
              "    box-shadow: none;\n",
              "  }\n",
              "\n",
              "  .colab-df-spinner {\n",
              "    border: 2px solid var(--fill-color);\n",
              "    border-color: transparent;\n",
              "    border-bottom-color: var(--fill-color);\n",
              "    animation:\n",
              "      spin 1s steps(1) infinite;\n",
              "  }\n",
              "\n",
              "  @keyframes spin {\n",
              "    0% {\n",
              "      border-color: transparent;\n",
              "      border-bottom-color: var(--fill-color);\n",
              "      border-left-color: var(--fill-color);\n",
              "    }\n",
              "    20% {\n",
              "      border-color: transparent;\n",
              "      border-left-color: var(--fill-color);\n",
              "      border-top-color: var(--fill-color);\n",
              "    }\n",
              "    30% {\n",
              "      border-color: transparent;\n",
              "      border-left-color: var(--fill-color);\n",
              "      border-top-color: var(--fill-color);\n",
              "      border-right-color: var(--fill-color);\n",
              "    }\n",
              "    40% {\n",
              "      border-color: transparent;\n",
              "      border-right-color: var(--fill-color);\n",
              "      border-top-color: var(--fill-color);\n",
              "    }\n",
              "    60% {\n",
              "      border-color: transparent;\n",
              "      border-right-color: var(--fill-color);\n",
              "    }\n",
              "    80% {\n",
              "      border-color: transparent;\n",
              "      border-right-color: var(--fill-color);\n",
              "      border-bottom-color: var(--fill-color);\n",
              "    }\n",
              "    90% {\n",
              "      border-color: transparent;\n",
              "      border-bottom-color: var(--fill-color);\n",
              "    }\n",
              "  }\n",
              "</style>\n",
              "\n",
              "  <script>\n",
              "    async function quickchart(key) {\n",
              "      const quickchartButtonEl =\n",
              "        document.querySelector('#' + key + ' button');\n",
              "      quickchartButtonEl.disabled = true;  // To prevent multiple clicks.\n",
              "      quickchartButtonEl.classList.add('colab-df-spinner');\n",
              "      try {\n",
              "        const charts = await google.colab.kernel.invokeFunction(\n",
              "            'suggestCharts', [key], {});\n",
              "      } catch (error) {\n",
              "        console.error('Error during call to suggestCharts:', error);\n",
              "      }\n",
              "      quickchartButtonEl.classList.remove('colab-df-spinner');\n",
              "      quickchartButtonEl.classList.add('colab-df-quickchart-complete');\n",
              "    }\n",
              "    (() => {\n",
              "      let quickchartButtonEl =\n",
              "        document.querySelector('#df-e5def6de-c9ab-4905-9f51-2c6ce7a89d81 button');\n",
              "      quickchartButtonEl.style.display =\n",
              "        google.colab.kernel.accessAllowed ? 'block' : 'none';\n",
              "    })();\n",
              "  </script>\n",
              "</div>\n",
              "\n",
              "    </div>\n",
              "  </div>\n"
            ],
            "application/vnd.google.colaboratory.intrinsic+json": {
              "type": "dataframe",
              "summary": "{\n  \"name\": \"CSE\",\n  \"rows\": 10,\n  \"fields\": [\n    {\n      \"column\": \"Id\",\n      \"properties\": {\n        \"dtype\": \"number\",\n        \"std\": 3,\n        \"min\": 39799,\n        \"max\": 39808,\n        \"num_unique_values\": 10,\n        \"samples\": [\n          39807,\n          39800,\n          39804\n        ],\n        \"semantic_type\": \"\",\n        \"description\": \"\"\n      }\n    },\n    {\n      \"column\": \"Income\",\n      \"properties\": {\n        \"dtype\": \"number\",\n        \"std\": 3853952,\n        \"min\": 228131,\n        \"max\": 9541394,\n        \"num_unique_values\": 10,\n        \"samples\": [\n          704775,\n          2116651,\n          3246861\n        ],\n        \"semantic_type\": \"\",\n        \"description\": \"\"\n      }\n    },\n    {\n      \"column\": \"Age\",\n      \"properties\": {\n        \"dtype\": \"number\",\n        \"std\": 20,\n        \"min\": 22,\n        \"max\": 79,\n        \"num_unique_values\": 9,\n        \"samples\": [\n          33,\n          55,\n          79\n        ],\n        \"semantic_type\": \"\",\n        \"description\": \"\"\n      }\n    },\n    {\n      \"column\": \"Experience\",\n      \"properties\": {\n        \"dtype\": \"number\",\n        \"std\": 5,\n        \"min\": 2,\n        \"max\": 18,\n        \"num_unique_values\": 8,\n        \"samples\": [\n          18,\n          2,\n          8\n        ],\n        \"semantic_type\": \"\",\n        \"description\": \"\"\n      }\n    },\n    {\n      \"column\": \"Married/Single\",\n      \"properties\": {\n        \"dtype\": \"category\",\n        \"num_unique_values\": 1,\n        \"samples\": [\n          \"single\"\n        ],\n        \"semantic_type\": \"\",\n        \"description\": \"\"\n      }\n    },\n    {\n      \"column\": \"House_Ownership\",\n      \"properties\": {\n        \"dtype\": \"category\",\n        \"num_unique_values\": 1,\n        \"samples\": [\n          \"rented\"\n        ],\n        \"semantic_type\": \"\",\n        \"description\": \"\"\n      }\n    },\n    {\n      \"column\": \"Car_Ownership\",\n      \"properties\": {\n        \"dtype\": \"category\",\n        \"num_unique_values\": 2,\n        \"samples\": [\n          \"yes\"\n        ],\n        \"semantic_type\": \"\",\n        \"description\": \"\"\n      }\n    },\n    {\n      \"column\": \"Profession\",\n      \"properties\": {\n        \"dtype\": \"string\",\n        \"num_unique_values\": 10,\n        \"samples\": [\n          \"Army_officer\"\n        ],\n        \"semantic_type\": \"\",\n        \"description\": \"\"\n      }\n    },\n    {\n      \"column\": \"CITY\",\n      \"properties\": {\n        \"dtype\": \"string\",\n        \"num_unique_values\": 9,\n        \"samples\": [\n          \"Rewa\"\n        ],\n        \"semantic_type\": \"\",\n        \"description\": \"\"\n      }\n    },\n    {\n      \"column\": \"STATE\",\n      \"properties\": {\n        \"dtype\": \"string\",\n        \"num_unique_values\": 7,\n        \"samples\": [\n          \"Karnataka\"\n        ],\n        \"semantic_type\": \"\",\n        \"description\": \"\"\n      }\n    },\n    {\n      \"column\": \"CURRENT_JOB_YRS\",\n      \"properties\": {\n        \"dtype\": \"number\",\n        \"std\": 3.3829638550307397,\n        \"min\": 2.0,\n        \"max\": 12.0,\n        \"num_unique_values\": 6,\n        \"samples\": [\n          8.0\n        ],\n        \"semantic_type\": \"\",\n        \"description\": \"\"\n      }\n    },\n    {\n      \"column\": \"CURRENT_HOUSE_YRS\",\n      \"properties\": {\n        \"dtype\": \"number\",\n        \"std\": 1.5,\n        \"min\": 10.0,\n        \"max\": 14.0,\n        \"num_unique_values\": 5,\n        \"samples\": [\n          14.0\n        ],\n        \"semantic_type\": \"\",\n        \"description\": \"\"\n      }\n    },\n    {\n      \"column\": \"Risk_Flag\",\n      \"properties\": {\n        \"dtype\": \"number\",\n        \"std\": 0.5,\n        \"min\": 0.0,\n        \"max\": 1.0,\n        \"num_unique_values\": 2,\n        \"samples\": [\n          0.0\n        ],\n        \"semantic_type\": \"\",\n        \"description\": \"\"\n      }\n    }\n  ]\n}"
            }
          },
          "metadata": {},
          "execution_count": 4
        }
      ],
      "source": [
        "#check the last rows\n",
        "CSE.tail(10)"
      ]
    },
    {
      "cell_type": "markdown",
      "metadata": {
        "id": "ZDxfpeTtn1f7"
      },
      "source": [
        "Data Exploration:\n",
        "Import libraries (pandas, numpy, matplotlib, seaborn)\n",
        "Read the CSV data into a pandas DataFrame\n",
        "Check data types, missing values, and basic statistics\n",
        "Clean and pre-process data (handling missing values, outliers, categorical features)\n"
      ]
    },
    {
      "cell_type": "code",
      "execution_count": null,
      "metadata": {
        "colab": {
          "base_uri": "https://localhost:8080/"
        },
        "id": "lHQMBkLTg8wU",
        "outputId": "afd6d6a4-6012-4eb9-fd3e-b7a850b4e59d"
      },
      "outputs": [
        {
          "output_type": "stream",
          "name": "stdout",
          "text": [
            "<class 'pandas.core.frame.DataFrame'>\n",
            "RangeIndex: 39808 entries, 0 to 39807\n",
            "Data columns (total 13 columns):\n",
            " #   Column             Non-Null Count  Dtype  \n",
            "---  ------             --------------  -----  \n",
            " 0   Id                 39808 non-null  int64  \n",
            " 1   Income             39808 non-null  int64  \n",
            " 2   Age                39808 non-null  int64  \n",
            " 3   Experience         39808 non-null  int64  \n",
            " 4   Married/Single     39808 non-null  object \n",
            " 5   House_Ownership    39808 non-null  object \n",
            " 6   Car_Ownership      39808 non-null  object \n",
            " 7   Profession         39808 non-null  object \n",
            " 8   CITY               39807 non-null  object \n",
            " 9   STATE              39807 non-null  object \n",
            " 10  CURRENT_JOB_YRS    39807 non-null  float64\n",
            " 11  CURRENT_HOUSE_YRS  39807 non-null  float64\n",
            " 12  Risk_Flag          39807 non-null  float64\n",
            "dtypes: float64(3), int64(4), object(6)\n",
            "memory usage: 3.9+ MB\n"
          ]
        }
      ],
      "source": [
        "#Check data types, missing values, and basic statistics\n",
        "CSE.info()"
      ]
    },
    {
      "cell_type": "code",
      "execution_count": null,
      "metadata": {
        "colab": {
          "base_uri": "https://localhost:8080/"
        },
        "id": "Z3sHJNRDEVpd",
        "outputId": "fab91359-06d7-4d01-a802-7222e67fca1f"
      },
      "outputs": [
        {
          "output_type": "execute_result",
          "data": {
            "text/plain": [
              "Id                   0\n",
              "Income               0\n",
              "Age                  0\n",
              "Experience           0\n",
              "Married/Single       0\n",
              "House_Ownership      0\n",
              "Car_Ownership        0\n",
              "Profession           0\n",
              "CITY                 1\n",
              "STATE                1\n",
              "CURRENT_JOB_YRS      1\n",
              "CURRENT_HOUSE_YRS    1\n",
              "Risk_Flag            1\n",
              "dtype: int64"
            ]
          },
          "metadata": {},
          "execution_count": 6
        }
      ],
      "source": [
        "CSE.isnull().sum()"
      ]
    },
    {
      "cell_type": "code",
      "execution_count": null,
      "metadata": {
        "id": "ZEmS0UTlQ8eQ"
      },
      "outputs": [],
      "source": [
        "CSE = CSE.fillna(method='ffill').drop('Id', axis=1)"
      ]
    },
    {
      "cell_type": "code",
      "execution_count": null,
      "metadata": {
        "colab": {
          "base_uri": "https://localhost:8080/"
        },
        "id": "TQmievFCTIqj",
        "outputId": "29f2988c-5878-46c1-bd0f-9a9b75ebd194"
      },
      "outputs": [
        {
          "output_type": "execute_result",
          "data": {
            "text/plain": [
              "Income               0\n",
              "Age                  0\n",
              "Experience           0\n",
              "Married/Single       0\n",
              "House_Ownership      0\n",
              "Car_Ownership        0\n",
              "Profession           0\n",
              "CITY                 0\n",
              "STATE                0\n",
              "CURRENT_JOB_YRS      0\n",
              "CURRENT_HOUSE_YRS    0\n",
              "Risk_Flag            0\n",
              "dtype: int64"
            ]
          },
          "metadata": {},
          "execution_count": 8
        }
      ],
      "source": [
        "CSE.isnull().sum()"
      ]
    },
    {
      "cell_type": "code",
      "execution_count": null,
      "metadata": {
        "colab": {
          "base_uri": "https://localhost:8080/"
        },
        "id": "n049nAtjh9kT",
        "outputId": "a9263e1a-e12b-4bb8-c9f7-1e2a52b60221"
      },
      "outputs": [
        {
          "output_type": "execute_result",
          "data": {
            "text/plain": [
              "(39808, 12)"
            ]
          },
          "metadata": {},
          "execution_count": 9
        }
      ],
      "source": [
        "CSE.shape\n"
      ]
    },
    {
      "cell_type": "code",
      "execution_count": null,
      "metadata": {
        "colab": {
          "base_uri": "https://localhost:8080/",
          "height": 300
        },
        "id": "DUrFHO2oifEl",
        "outputId": "53154698-be47-4ab8-89de-22c7aecf587d"
      },
      "outputs": [
        {
          "output_type": "execute_result",
          "data": {
            "text/plain": [
              "             Income           Age    Experience  CURRENT_JOB_YRS  \\\n",
              "count  3.980800e+04  39808.000000  39808.000000     39808.000000   \n",
              "mean   5.005572e+06     50.029542     10.106863         6.339982   \n",
              "std    2.877373e+06     17.051929      6.003259         3.649614   \n",
              "min    1.031000e+04     21.000000      0.000000         0.000000   \n",
              "25%    2.511105e+06     35.000000      5.000000         4.000000   \n",
              "50%    5.013716e+06     50.000000     10.000000         6.000000   \n",
              "75%    7.479878e+06     65.000000     15.000000         9.000000   \n",
              "max    9.999180e+06     79.000000     20.000000        14.000000   \n",
              "\n",
              "       CURRENT_HOUSE_YRS     Risk_Flag  \n",
              "count       39808.000000  39808.000000  \n",
              "mean           11.993619      0.132486  \n",
              "std             1.395405      0.339023  \n",
              "min            10.000000      0.000000  \n",
              "25%            11.000000      0.000000  \n",
              "50%            12.000000      0.000000  \n",
              "75%            13.000000      0.000000  \n",
              "max            14.000000      1.000000  "
            ],
            "text/html": [
              "\n",
              "  <div id=\"df-b43f159e-786e-48f2-b21b-fe9528ee507f\" class=\"colab-df-container\">\n",
              "    <div>\n",
              "<style scoped>\n",
              "    .dataframe tbody tr th:only-of-type {\n",
              "        vertical-align: middle;\n",
              "    }\n",
              "\n",
              "    .dataframe tbody tr th {\n",
              "        vertical-align: top;\n",
              "    }\n",
              "\n",
              "    .dataframe thead th {\n",
              "        text-align: right;\n",
              "    }\n",
              "</style>\n",
              "<table border=\"1\" class=\"dataframe\">\n",
              "  <thead>\n",
              "    <tr style=\"text-align: right;\">\n",
              "      <th></th>\n",
              "      <th>Income</th>\n",
              "      <th>Age</th>\n",
              "      <th>Experience</th>\n",
              "      <th>CURRENT_JOB_YRS</th>\n",
              "      <th>CURRENT_HOUSE_YRS</th>\n",
              "      <th>Risk_Flag</th>\n",
              "    </tr>\n",
              "  </thead>\n",
              "  <tbody>\n",
              "    <tr>\n",
              "      <th>count</th>\n",
              "      <td>3.980800e+04</td>\n",
              "      <td>39808.000000</td>\n",
              "      <td>39808.000000</td>\n",
              "      <td>39808.000000</td>\n",
              "      <td>39808.000000</td>\n",
              "      <td>39808.000000</td>\n",
              "    </tr>\n",
              "    <tr>\n",
              "      <th>mean</th>\n",
              "      <td>5.005572e+06</td>\n",
              "      <td>50.029542</td>\n",
              "      <td>10.106863</td>\n",
              "      <td>6.339982</td>\n",
              "      <td>11.993619</td>\n",
              "      <td>0.132486</td>\n",
              "    </tr>\n",
              "    <tr>\n",
              "      <th>std</th>\n",
              "      <td>2.877373e+06</td>\n",
              "      <td>17.051929</td>\n",
              "      <td>6.003259</td>\n",
              "      <td>3.649614</td>\n",
              "      <td>1.395405</td>\n",
              "      <td>0.339023</td>\n",
              "    </tr>\n",
              "    <tr>\n",
              "      <th>min</th>\n",
              "      <td>1.031000e+04</td>\n",
              "      <td>21.000000</td>\n",
              "      <td>0.000000</td>\n",
              "      <td>0.000000</td>\n",
              "      <td>10.000000</td>\n",
              "      <td>0.000000</td>\n",
              "    </tr>\n",
              "    <tr>\n",
              "      <th>25%</th>\n",
              "      <td>2.511105e+06</td>\n",
              "      <td>35.000000</td>\n",
              "      <td>5.000000</td>\n",
              "      <td>4.000000</td>\n",
              "      <td>11.000000</td>\n",
              "      <td>0.000000</td>\n",
              "    </tr>\n",
              "    <tr>\n",
              "      <th>50%</th>\n",
              "      <td>5.013716e+06</td>\n",
              "      <td>50.000000</td>\n",
              "      <td>10.000000</td>\n",
              "      <td>6.000000</td>\n",
              "      <td>12.000000</td>\n",
              "      <td>0.000000</td>\n",
              "    </tr>\n",
              "    <tr>\n",
              "      <th>75%</th>\n",
              "      <td>7.479878e+06</td>\n",
              "      <td>65.000000</td>\n",
              "      <td>15.000000</td>\n",
              "      <td>9.000000</td>\n",
              "      <td>13.000000</td>\n",
              "      <td>0.000000</td>\n",
              "    </tr>\n",
              "    <tr>\n",
              "      <th>max</th>\n",
              "      <td>9.999180e+06</td>\n",
              "      <td>79.000000</td>\n",
              "      <td>20.000000</td>\n",
              "      <td>14.000000</td>\n",
              "      <td>14.000000</td>\n",
              "      <td>1.000000</td>\n",
              "    </tr>\n",
              "  </tbody>\n",
              "</table>\n",
              "</div>\n",
              "    <div class=\"colab-df-buttons\">\n",
              "\n",
              "  <div class=\"colab-df-container\">\n",
              "    <button class=\"colab-df-convert\" onclick=\"convertToInteractive('df-b43f159e-786e-48f2-b21b-fe9528ee507f')\"\n",
              "            title=\"Convert this dataframe to an interactive table.\"\n",
              "            style=\"display:none;\">\n",
              "\n",
              "  <svg xmlns=\"http://www.w3.org/2000/svg\" height=\"24px\" viewBox=\"0 -960 960 960\">\n",
              "    <path d=\"M120-120v-720h720v720H120Zm60-500h600v-160H180v160Zm220 220h160v-160H400v160Zm0 220h160v-160H400v160ZM180-400h160v-160H180v160Zm440 0h160v-160H620v160ZM180-180h160v-160H180v160Zm440 0h160v-160H620v160Z\"/>\n",
              "  </svg>\n",
              "    </button>\n",
              "\n",
              "  <style>\n",
              "    .colab-df-container {\n",
              "      display:flex;\n",
              "      gap: 12px;\n",
              "    }\n",
              "\n",
              "    .colab-df-convert {\n",
              "      background-color: #E8F0FE;\n",
              "      border: none;\n",
              "      border-radius: 50%;\n",
              "      cursor: pointer;\n",
              "      display: none;\n",
              "      fill: #1967D2;\n",
              "      height: 32px;\n",
              "      padding: 0 0 0 0;\n",
              "      width: 32px;\n",
              "    }\n",
              "\n",
              "    .colab-df-convert:hover {\n",
              "      background-color: #E2EBFA;\n",
              "      box-shadow: 0px 1px 2px rgba(60, 64, 67, 0.3), 0px 1px 3px 1px rgba(60, 64, 67, 0.15);\n",
              "      fill: #174EA6;\n",
              "    }\n",
              "\n",
              "    .colab-df-buttons div {\n",
              "      margin-bottom: 4px;\n",
              "    }\n",
              "\n",
              "    [theme=dark] .colab-df-convert {\n",
              "      background-color: #3B4455;\n",
              "      fill: #D2E3FC;\n",
              "    }\n",
              "\n",
              "    [theme=dark] .colab-df-convert:hover {\n",
              "      background-color: #434B5C;\n",
              "      box-shadow: 0px 1px 3px 1px rgba(0, 0, 0, 0.15);\n",
              "      filter: drop-shadow(0px 1px 2px rgba(0, 0, 0, 0.3));\n",
              "      fill: #FFFFFF;\n",
              "    }\n",
              "  </style>\n",
              "\n",
              "    <script>\n",
              "      const buttonEl =\n",
              "        document.querySelector('#df-b43f159e-786e-48f2-b21b-fe9528ee507f button.colab-df-convert');\n",
              "      buttonEl.style.display =\n",
              "        google.colab.kernel.accessAllowed ? 'block' : 'none';\n",
              "\n",
              "      async function convertToInteractive(key) {\n",
              "        const element = document.querySelector('#df-b43f159e-786e-48f2-b21b-fe9528ee507f');\n",
              "        const dataTable =\n",
              "          await google.colab.kernel.invokeFunction('convertToInteractive',\n",
              "                                                    [key], {});\n",
              "        if (!dataTable) return;\n",
              "\n",
              "        const docLinkHtml = 'Like what you see? Visit the ' +\n",
              "          '<a target=\"_blank\" href=https://colab.research.google.com/notebooks/data_table.ipynb>data table notebook</a>'\n",
              "          + ' to learn more about interactive tables.';\n",
              "        element.innerHTML = '';\n",
              "        dataTable['output_type'] = 'display_data';\n",
              "        await google.colab.output.renderOutput(dataTable, element);\n",
              "        const docLink = document.createElement('div');\n",
              "        docLink.innerHTML = docLinkHtml;\n",
              "        element.appendChild(docLink);\n",
              "      }\n",
              "    </script>\n",
              "  </div>\n",
              "\n",
              "\n",
              "<div id=\"df-131d2e3d-9429-4a72-b2d8-1f9d37b1165a\">\n",
              "  <button class=\"colab-df-quickchart\" onclick=\"quickchart('df-131d2e3d-9429-4a72-b2d8-1f9d37b1165a')\"\n",
              "            title=\"Suggest charts\"\n",
              "            style=\"display:none;\">\n",
              "\n",
              "<svg xmlns=\"http://www.w3.org/2000/svg\" height=\"24px\"viewBox=\"0 0 24 24\"\n",
              "     width=\"24px\">\n",
              "    <g>\n",
              "        <path d=\"M19 3H5c-1.1 0-2 .9-2 2v14c0 1.1.9 2 2 2h14c1.1 0 2-.9 2-2V5c0-1.1-.9-2-2-2zM9 17H7v-7h2v7zm4 0h-2V7h2v10zm4 0h-2v-4h2v4z\"/>\n",
              "    </g>\n",
              "</svg>\n",
              "  </button>\n",
              "\n",
              "<style>\n",
              "  .colab-df-quickchart {\n",
              "      --bg-color: #E8F0FE;\n",
              "      --fill-color: #1967D2;\n",
              "      --hover-bg-color: #E2EBFA;\n",
              "      --hover-fill-color: #174EA6;\n",
              "      --disabled-fill-color: #AAA;\n",
              "      --disabled-bg-color: #DDD;\n",
              "  }\n",
              "\n",
              "  [theme=dark] .colab-df-quickchart {\n",
              "      --bg-color: #3B4455;\n",
              "      --fill-color: #D2E3FC;\n",
              "      --hover-bg-color: #434B5C;\n",
              "      --hover-fill-color: #FFFFFF;\n",
              "      --disabled-bg-color: #3B4455;\n",
              "      --disabled-fill-color: #666;\n",
              "  }\n",
              "\n",
              "  .colab-df-quickchart {\n",
              "    background-color: var(--bg-color);\n",
              "    border: none;\n",
              "    border-radius: 50%;\n",
              "    cursor: pointer;\n",
              "    display: none;\n",
              "    fill: var(--fill-color);\n",
              "    height: 32px;\n",
              "    padding: 0;\n",
              "    width: 32px;\n",
              "  }\n",
              "\n",
              "  .colab-df-quickchart:hover {\n",
              "    background-color: var(--hover-bg-color);\n",
              "    box-shadow: 0 1px 2px rgba(60, 64, 67, 0.3), 0 1px 3px 1px rgba(60, 64, 67, 0.15);\n",
              "    fill: var(--button-hover-fill-color);\n",
              "  }\n",
              "\n",
              "  .colab-df-quickchart-complete:disabled,\n",
              "  .colab-df-quickchart-complete:disabled:hover {\n",
              "    background-color: var(--disabled-bg-color);\n",
              "    fill: var(--disabled-fill-color);\n",
              "    box-shadow: none;\n",
              "  }\n",
              "\n",
              "  .colab-df-spinner {\n",
              "    border: 2px solid var(--fill-color);\n",
              "    border-color: transparent;\n",
              "    border-bottom-color: var(--fill-color);\n",
              "    animation:\n",
              "      spin 1s steps(1) infinite;\n",
              "  }\n",
              "\n",
              "  @keyframes spin {\n",
              "    0% {\n",
              "      border-color: transparent;\n",
              "      border-bottom-color: var(--fill-color);\n",
              "      border-left-color: var(--fill-color);\n",
              "    }\n",
              "    20% {\n",
              "      border-color: transparent;\n",
              "      border-left-color: var(--fill-color);\n",
              "      border-top-color: var(--fill-color);\n",
              "    }\n",
              "    30% {\n",
              "      border-color: transparent;\n",
              "      border-left-color: var(--fill-color);\n",
              "      border-top-color: var(--fill-color);\n",
              "      border-right-color: var(--fill-color);\n",
              "    }\n",
              "    40% {\n",
              "      border-color: transparent;\n",
              "      border-right-color: var(--fill-color);\n",
              "      border-top-color: var(--fill-color);\n",
              "    }\n",
              "    60% {\n",
              "      border-color: transparent;\n",
              "      border-right-color: var(--fill-color);\n",
              "    }\n",
              "    80% {\n",
              "      border-color: transparent;\n",
              "      border-right-color: var(--fill-color);\n",
              "      border-bottom-color: var(--fill-color);\n",
              "    }\n",
              "    90% {\n",
              "      border-color: transparent;\n",
              "      border-bottom-color: var(--fill-color);\n",
              "    }\n",
              "  }\n",
              "</style>\n",
              "\n",
              "  <script>\n",
              "    async function quickchart(key) {\n",
              "      const quickchartButtonEl =\n",
              "        document.querySelector('#' + key + ' button');\n",
              "      quickchartButtonEl.disabled = true;  // To prevent multiple clicks.\n",
              "      quickchartButtonEl.classList.add('colab-df-spinner');\n",
              "      try {\n",
              "        const charts = await google.colab.kernel.invokeFunction(\n",
              "            'suggestCharts', [key], {});\n",
              "      } catch (error) {\n",
              "        console.error('Error during call to suggestCharts:', error);\n",
              "      }\n",
              "      quickchartButtonEl.classList.remove('colab-df-spinner');\n",
              "      quickchartButtonEl.classList.add('colab-df-quickchart-complete');\n",
              "    }\n",
              "    (() => {\n",
              "      let quickchartButtonEl =\n",
              "        document.querySelector('#df-131d2e3d-9429-4a72-b2d8-1f9d37b1165a button');\n",
              "      quickchartButtonEl.style.display =\n",
              "        google.colab.kernel.accessAllowed ? 'block' : 'none';\n",
              "    })();\n",
              "  </script>\n",
              "</div>\n",
              "\n",
              "    </div>\n",
              "  </div>\n"
            ],
            "application/vnd.google.colaboratory.intrinsic+json": {
              "type": "dataframe",
              "summary": "{\n  \"name\": \"CSE\",\n  \"rows\": 8,\n  \"fields\": [\n    {\n      \"column\": \"Income\",\n      \"properties\": {\n        \"dtype\": \"number\",\n        \"std\": 3486845.084909634,\n        \"min\": 10310.0,\n        \"max\": 9999180.0,\n        \"num_unique_values\": 8,\n        \"samples\": [\n          5005571.937123192,\n          5013716.0,\n          39808.0\n        ],\n        \"semantic_type\": \"\",\n        \"description\": \"\"\n      }\n    },\n    {\n      \"column\": \"Age\",\n      \"properties\": {\n        \"dtype\": \"number\",\n        \"std\": 14058.253901645032,\n        \"min\": 17.051929171295974,\n        \"max\": 39808.0,\n        \"num_unique_values\": 8,\n        \"samples\": [\n          50.02954180064309,\n          50.0,\n          39808.0\n        ],\n        \"semantic_type\": \"\",\n        \"description\": \"\"\n      }\n    },\n    {\n      \"column\": \"Experience\",\n      \"properties\": {\n        \"dtype\": \"number\",\n        \"std\": 14070.915646575611,\n        \"min\": 0.0,\n        \"max\": 39808.0,\n        \"num_unique_values\": 8,\n        \"samples\": [\n          10.106862942122186,\n          10.0,\n          39808.0\n        ],\n        \"semantic_type\": \"\",\n        \"description\": \"\"\n      }\n    },\n    {\n      \"column\": \"CURRENT_JOB_YRS\",\n      \"properties\": {\n        \"dtype\": \"number\",\n        \"std\": 14072.082671731332,\n        \"min\": 0.0,\n        \"max\": 39808.0,\n        \"num_unique_values\": 8,\n        \"samples\": [\n          6.33998191318328,\n          6.0,\n          39808.0\n        ],\n        \"semantic_type\": \"\",\n        \"description\": \"\"\n      }\n    },\n    {\n      \"column\": \"CURRENT_HOUSE_YRS\",\n      \"properties\": {\n        \"dtype\": \"number\",\n        \"std\": 14070.547207259713,\n        \"min\": 1.395404781236565,\n        \"max\": 39808.0,\n        \"num_unique_values\": 8,\n        \"samples\": [\n          11.993619372990354,\n          12.0,\n          39808.0\n        ],\n        \"semantic_type\": \"\",\n        \"description\": \"\"\n      }\n    },\n    {\n      \"column\": \"Risk_Flag\",\n      \"properties\": {\n        \"dtype\": \"number\",\n        \"std\": 14074.17905451218,\n        \"min\": 0.0,\n        \"max\": 39808.0,\n        \"num_unique_values\": 5,\n        \"samples\": [\n          0.13248593247588425,\n          1.0,\n          0.3390225618424148\n        ],\n        \"semantic_type\": \"\",\n        \"description\": \"\"\n      }\n    }\n  ]\n}"
            }
          },
          "metadata": {},
          "execution_count": 10
        }
      ],
      "source": [
        "# Summary statistics for numerical columns\n",
        "CSE.describe()"
      ]
    },
    {
      "cell_type": "code",
      "execution_count": null,
      "metadata": {
        "colab": {
          "base_uri": "https://localhost:8080/"
        },
        "id": "PLF0F1joQkz8",
        "outputId": "8dfe8773-75b0-4e44-e585-fa5cc989fade"
      },
      "outputs": [
        {
          "output_type": "stream",
          "name": "stdout",
          "text": [
            "Index(['Income', 'Age', 'Experience', 'Married/Single', 'House_Ownership',\n",
            "       'Car_Ownership', 'Profession', 'CITY', 'STATE', 'CURRENT_JOB_YRS',\n",
            "       'CURRENT_HOUSE_YRS', 'Risk_Flag'],\n",
            "      dtype='object')\n"
          ]
        }
      ],
      "source": [
        "# Unique values in categorical columns\n",
        "print(CSE.columns)"
      ]
    },
    {
      "cell_type": "code",
      "execution_count": null,
      "metadata": {
        "id": "Sz1TruJfWmHa",
        "colab": {
          "base_uri": "https://localhost:8080/"
        },
        "outputId": "658c6df3-5c96-4a63-8ad6-c28b8e2292d8"
      },
      "outputs": [
        {
          "output_type": "stream",
          "name": "stdout",
          "text": [
            "Encoded Data:\n",
            "   Id   Income  Age  Experience Married/Single House_Ownership Car_Ownership  \\\n",
            "0   1  1303834   23           3         single          rented            no   \n",
            "1   2  7574516   40          10         single          rented            no   \n",
            "2   3  3991815   66           4        married          rented            no   \n",
            "3   4  6256451   41           2         single          rented           yes   \n",
            "4   5  5768871   47          11         single          rented            no   \n",
            "\n",
            "            Profession                 CITY           STATE  CURRENT_JOB_YRS  \\\n",
            "0  Mechanical_engineer                 Rewa  Madhya_Pradesh              3.0   \n",
            "1   Software_Developer             Parbhani     Maharashtra              9.0   \n",
            "2     Technical_writer            Alappuzha          Kerala              4.0   \n",
            "3   Software_Developer          Bhubaneswar          Odisha              2.0   \n",
            "4        Civil_servant  Tiruchirappalli[10]      Tamil_Nadu              3.0   \n",
            "\n",
            "   CURRENT_HOUSE_YRS  Risk_Flag  Married/Single_Encoded  CITY_Encoded  \\\n",
            "0               13.0        0.0                       1           251   \n",
            "1               13.0        0.0                       1           227   \n",
            "2               10.0        0.0                       0             8   \n",
            "3               12.0        1.0                       1            54   \n",
            "4               14.0        1.0                       1           296   \n",
            "\n",
            "   Profession_Encoded  \n",
            "0                  34  \n",
            "1                  44  \n",
            "2                  48  \n",
            "3                  44  \n",
            "4                  11  \n"
          ]
        }
      ],
      "source": [
        "from sklearn.preprocessing import LabelEncoder\n",
        "\n",
        "# Assuming CSE is your DataFrame containing the data\n",
        "# Load your data into a DataFrame (if not already loaded)\n",
        "CSE = pd.read_csv('/content/CSEdata.csv')  # Replace with the path to your dataset file\n",
        "\n",
        "# List of columns to encode\n",
        "columns_to_encode = ['Married/Single', 'CITY', 'Profession']\n",
        "\n",
        "# Initialize LabelEncoder\n",
        "le = LabelEncoder()\n",
        "\n",
        "# Iterate through each column and apply LabelEncoder\n",
        "for col in columns_to_encode:\n",
        "    CSE[col + '_Encoded'] = le.fit_transform(CSE[col])\n",
        "\n",
        "# Display the encoded data\n",
        "print(\"Encoded Data:\")\n",
        "print(CSE.head())\n"
      ]
    },
    {
      "cell_type": "markdown",
      "metadata": {
        "id": "-XTEUXhYSucY"
      },
      "source": [
        "HISTOGRAM OF INCOME"
      ]
    },
    {
      "cell_type": "code",
      "execution_count": null,
      "metadata": {
        "colab": {
          "base_uri": "https://localhost:8080/",
          "height": 472
        },
        "id": "c64QW_ZY_VT7",
        "outputId": "7091fddb-eb8c-4ddb-9bf0-5f1bae751147"
      },
      "outputs": [
        {
          "output_type": "display_data",
          "data": {
            "text/plain": [
              "<Figure size 640x480 with 1 Axes>"
            ],
            "image/png": "[encoded data removed]"
          },
          "metadata": {}
        }
      ],
      "source": [
        "import matplotlib.pyplot as plt\n",
        "import numpy as np\n",
        "\n",
        "# Assuming CSE['Income'] contains your income data\n",
        "num_bins = 20\n",
        "colors = plt.cm.viridis(np.linspace(0, 1, num_bins))  # Generating a range of colors\n",
        "\n",
        "# Create the histogram with specified colors for each bin\n",
        "n, bins, patches = plt.hist(CSE['Income'], bins=num_bins)\n",
        "\n",
        "for i in range(len(patches)):\n",
        "    patches[i].set_facecolor(colors[i])\n",
        "\n",
        "plt.xlabel('Income')\n",
        "plt.ylabel('Frequency')\n",
        "plt.title('Distribution of Income')\n",
        "plt.show()\n"
      ]
    },
    {
      "cell_type": "markdown",
      "source": [
        "Each bar in the histogram corresponds to a range of incomes, and the height of each bar indicates the frequency (or count) of incomes falling within that range.X-axis (Income): This axis represents the income range. The exact income values might not be labeled directly on the x-axis due to the nature of histograms, where data is grouped into bins.\n",
        "Y-axis (Frequency): Indicates how many data points (incomes) fall into each bin. A higher bar means more incomes fall within that income range.If the histogram is skewed to the right (longer tail towards higher incomes), it suggests a distribution where fewer people have higher incomes compared to those with lower incomes, which is typical in income distributions."
      ],
      "metadata": {
        "id": "I5IuzIT0ZxBK"
      }
    },
    {
      "cell_type": "markdown",
      "metadata": {
        "id": "x_LJdv98Uew_"
      },
      "source": [
        "COUNTPLOT OF MARITAL STATUS"
      ]
    },
    {
      "cell_type": "code",
      "execution_count": null,
      "metadata": {
        "colab": {
          "base_uri": "https://localhost:8080/",
          "height": 472
        },
        "id": "qR6m6hX1_2zt",
        "outputId": "f5dbf052-7d24-46a4-8e34-6d09041a879d"
      },
      "outputs": [
        {
          "output_type": "display_data",
          "data": {
            "text/plain": [
              "<Figure size 640x480 with 1 Axes>"
            ],
            "image/png": "[encoded data removed]"
          },
          "metadata": {}
        }
      ],
      "source": [
        "import seaborn as sns\n",
        "import matplotlib.pyplot as plt\n",
        "\n",
        "# Assuming CSE is your DataFrame containing the data\n",
        "sns.countplot(x='Married/Single', data=CSE)\n",
        "plt.title('Marital Status Count')\n",
        "plt.show()\n"
      ]
    },
    {
      "cell_type": "markdown",
      "source": [
        "It provides a quick visual summary of how many individuals fall under each category ('Married' or 'Single').The height of each bar represents the count of individuals belonging to each category.\n",
        "A taller bar indicates a larger number of individuals categorized as either 'Married' or 'Single'.You can quickly assess whether there's an imbalance in the dataset in terms of marital status. For instance, if 'Married' has a significantly taller bar than 'Single', it suggests that a larger proportion of individuals in your dataset are married.Comparing the heights of the bars gives a straightforward comparison of the frequency of each category. This can be useful for demographic analysis or understanding the composition of your dataset."
      ],
      "metadata": {
        "id": "Vptk4J5hfWnv"
      }
    },
    {
      "cell_type": "markdown",
      "source": [
        "RISK/ EXPERIENCE"
      ],
      "metadata": {
        "id": "CuFcWqA-f3QK"
      }
    },
    {
      "cell_type": "code",
      "source": [
        "data = {'Experience': ['Low', 'Medium', 'Low', 'High', 'Medium', 'Low', 'High', 'Medium'],\n",
        "        'Risk_Flag': ['High', 'Low', 'High', 'Low', 'High', 'Low', 'High', 'Low']}\n",
        "df = pd.DataFrame(data)\n",
        "\n",
        "# occurrences of each combination of Experience and Risk_Flag\n",
        "experience_risk_counts = df.groupby(['Experience', 'Risk_Flag']).size().unstack(fill_value=0)\n",
        "\n",
        "# chart\n",
        "experience_risk_counts.plot(kind='bar', stacked=True, colormap='Set2')\n",
        "plt.xlabel('Experience')\n",
        "plt.ylabel('Count')\n",
        "plt.title('Distribution of Experience by Risk Flag (Stacked Bar Chart)')\n",
        "plt.legend(title='Risk Flag')\n",
        "plt.xticks(rotation=0)\n",
        "plt.grid(axis='y', linestyle='--', alpha=0.7)\n",
        "plt.show()"
      ],
      "metadata": {
        "colab": {
          "base_uri": "https://localhost:8080/",
          "height": 472
        },
        "id": "FHk1jWH9f5z9",
        "outputId": "38cb18cf-5ffc-403e-9054-1e428b79eca4"
      },
      "execution_count": null,
      "outputs": [
        {
          "output_type": "display_data",
          "data": {
            "text/plain": [
              "<Figure size 640x480 with 1 Axes>"
            ],
            "image/png": "[encoded data removed]"
          },
          "metadata": {}
        }
      ]
    },
    {
      "cell_type": "markdown",
      "source": [
        "The chart displays bars for each level of experience ('Low', 'Medium', 'High').\n",
        "Each bar is divided into segments representing the count of 'High' and 'Low' risk flags within that experience level.X axis Represents different levels of experience ('Low', 'Medium', 'High').\n",
        "Y-axis (Count):Represents the count of occurrences for each combination of experience level and risk flag."
      ],
      "metadata": {
        "id": "9RRK_CgBgSZZ"
      }
    },
    {
      "cell_type": "markdown",
      "source": [
        "HOUSE OWNERSHIP"
      ],
      "metadata": {
        "id": "zk0kYTJFg6kd"
      }
    },
    {
      "cell_type": "code",
      "source": [
        "data = {'House_Ownership': ['Yes', 'No', 'Yes', 'No', 'Yes', 'No', 'Yes', 'No'],\n",
        "        'Risk_Flag': ['High', 'Low', 'High', 'Low', 'High', 'Low', 'High', 'Low']}\n",
        "df = pd.DataFrame(data)\n",
        "\n",
        "# Calculate percentages\n",
        "df_pct = df.groupby(['House_Ownership', 'Risk_Flag']).size().unstack(fill_value=0)\n",
        "df_pct = df_pct.apply(lambda x: (x / x.sum()) * 100, axis=1)\n",
        "\n",
        "\n",
        "ax = sns.barplot(x=df_pct.index, y='High', data=df_pct)\n",
        "ax.set_ylabel('Percentage of High Risk Flag')\n",
        "ax.set_title('Risk Flag Distribution by House Ownership (Percentage)')\n",
        "\n",
        "for p in ax.patches:\n",
        "    ax.annotate(format(p.get_height(), '.1f') + '%',\n",
        "                (p.get_x() + p.get_width() / 2., p.get_height()),\n",
        "                ha = 'center', va = 'center',\n",
        "                xytext = (0, 10),\n",
        "                textcoords = 'offset points')\n",
        "\n",
        "plt.show()"
      ],
      "metadata": {
        "colab": {
          "base_uri": "https://localhost:8080/",
          "height": 472
        },
        "id": "kjIEkWfdg2m3",
        "outputId": "6fc72385-b4d6-4767-ef2b-62f01b63ee7b"
      },
      "execution_count": null,
      "outputs": [
        {
          "output_type": "display_data",
          "data": {
            "text/plain": [
              "<Figure size 640x480 with 1 Axes>"
            ],
            "image/png": "[encoded data removed]"
          },
          "metadata": {}
        }
      ]
    },
    {
      "cell_type": "markdown",
      "source": [
        "This bar plot effectively summarizes the percentage distribution of 'High' risk flags across different categories of house ownership. It provides a clear visual comparison, highlighting any disparities in risk levels based on whether individuals own a house or not. Such insights can inform further analysis or decision-making processes related to risk management or financial planning based on housing status."
      ],
      "metadata": {
        "id": "LHuHn5lyhM9H"
      }
    },
    {
      "cell_type": "markdown",
      "metadata": {
        "id": "bmHSo8pTd-Nd"
      },
      "source": [
        "DISTRIBUTION OF AGE"
      ]
    },
    {
      "cell_type": "code",
      "execution_count": null,
      "metadata": {
        "id": "apyqgnJmd3Wa",
        "colab": {
          "base_uri": "https://localhost:8080/",
          "height": 472
        },
        "outputId": "55804c28-7239-449f-a82c-5d81af7fe141"
      },
      "outputs": [
        {
          "output_type": "display_data",
          "data": {
            "text/plain": [
              "<Figure size 640x480 with 1 Axes>"
            ],
            "image/png": "[encoded data removed]"
          },
          "metadata": {}
        }
      ],
      "source": [
        "sns.histplot(CSE['Age'], kde=True)\n",
        "plt.xlabel('Age')\n",
        "plt.ylabel('Frequency')\n",
        "plt.title('Distribution of Age')\n",
        "plt.show()"
      ]
    },
    {
      "cell_type": "markdown",
      "source": [
        "This histogram with KDE overlay effectively summarizes the distribution of ages within the CSE dataset. It provides a visual representation of how ages are distributed, including insights into central tendency, variability, and potential outliers. Such visualizations are valuable for understanding the demographic composition of a dataset and can inform further analysis or decision-making processes related to age-dependent factors."
      ],
      "metadata": {
        "id": "x-K-b7AoibUi"
      }
    },
    {
      "cell_type": "markdown",
      "metadata": {
        "id": "ZcDYS8BoeNta"
      },
      "source": [
        "COUNTPLOT OF PROFFESION"
      ]
    },
    {
      "cell_type": "code",
      "execution_count": null,
      "metadata": {
        "id": "53LSOPAyeJj4",
        "colab": {
          "base_uri": "https://localhost:8080/",
          "height": 324
        },
        "outputId": "1d61e3aa-2285-4f65-a696-c165c9ce9c1a"
      },
      "outputs": [
        {
          "output_type": "display_data",
          "data": {
            "text/plain": [
              "<Figure size 3500x600 with 1 Axes>"
            ],
            "image/png": "[encoded data removed]"
          },
          "metadata": {}
        }
      ],
      "source": [
        "plt.figure(figsize=(35, 6))\n",
        "sns.countplot(x='Profession', data=CSE)\n",
        "plt.title('Profession Count')\n",
        "plt.xticks(rotation=45)\n",
        "plt.show()"
      ]
    },
    {
      "cell_type": "markdown",
      "source": [
        "Each bar represents a profession, and the length of the bar corresponds to the number of occurrences (count) of that profession in the dataset.The horizontal bar plot effectively summarizes the distribution of professions in the CSE dataset, providing insights into the frequency of each profession.\n",
        "It serves as a visual tool for quickly identifying patterns and understanding the composition of the dataset in terms of professions.Identify the professions with the longest bars. These professions likely represent dominant or more frequently occurring roles within the dataset. For example, if \"Software Engineer\" has the longest bar, it suggests that a significant portion of the dataset consists of software engineers."
      ],
      "metadata": {
        "id": "epfOj_zwa_21"
      }
    },
    {
      "cell_type": "markdown",
      "source": [
        "RISKFLAG BY HOUSE OWNERSHIP"
      ],
      "metadata": {
        "id": "iWWgaGwLi43x"
      }
    },
    {
      "cell_type": "code",
      "source": [
        "sns.barplot(x='House_Ownership', y='Risk_Flag', data=CSE)\n",
        "plt.title('Risk Flag by House Ownership')\n",
        "plt.show()"
      ],
      "metadata": {
        "colab": {
          "base_uri": "https://localhost:8080/",
          "height": 472
        },
        "id": "0yMKL8rwi8u6",
        "outputId": "d9a3164a-64ab-4ad3-ad41-cb277f4be90a"
      },
      "execution_count": null,
      "outputs": [
        {
          "output_type": "display_data",
          "data": {
            "text/plain": [
              "<Figure size 640x480 with 1 Axes>"
            ],
            "image/png": "[encoded data removed]"
          },
          "metadata": {}
        }
      ]
    },
    {
      "cell_type": "markdown",
      "source": [
        "This bar plot effectively summarizes the relationship between house ownership status ('House_Ownership') and risk flags ('Risk_Flag') in the CSE dataset. It provides a visual tool to compare the average occurrence of 'High' and 'Low' risk flags across different categories of house ownership. Such insights can inform further analysis or decision-making processes related to risk management or financial planning based on housing status."
      ],
      "metadata": {
        "id": "WcGMjM0WjblL"
      }
    },
    {
      "cell_type": "markdown",
      "source": [
        "PAIRPLOTS"
      ],
      "metadata": {
        "id": "bn881lLWjnxh"
      }
    },
    {
      "cell_type": "code",
      "source": [
        "\n",
        "\n",
        "# Sample data (replace with your actual data)\n",
        "data = {'Car_Ownership': ['Yes', 'No', 'Yes', 'No', 'Yes', 'No', 'Yes', 'No'],\n",
        "        'Income': [50000, 30000, 70000, 25000, 80000, 15000, 60000, 40000],\n",
        "        'Age': [35, 28, 42, 21, 55, 18, 38, 25],\n",
        "        'Risk_Flag': ['High', 'Low', 'High', 'Low', 'High', 'Low', 'High', 'Low']}\n",
        "df = pd.DataFrame(data)\n",
        "\n",
        "# Create pairplot with informative elements\n",
        "sns.pairplot(df, hue='Risk_Flag', diag_kind='hist', markers='o')\n",
        "\n",
        "# Customize the plot for better readability\n",
        "plt.subplots_adjust(top=0.9)\n",
        "plt.title('Pairplot of Features Colored by Risk Flag')\n",
        "\n",
        "\n",
        "for ax in plt.gcf().axes:\n",
        "  if ax.get_xlabel() is not None:\n",
        "    ax.set_xlabel(ax.get_xlabel().split('_')[-1])\n",
        "  if ax.get_ylabel() is not None:\n",
        "    ax.set_ylabel(ax.get_ylabel().split('_')[-1])\n",
        "\n",
        "plt.show()"
      ],
      "metadata": {
        "colab": {
          "base_uri": "https://localhost:8080/",
          "height": 475
        },
        "id": "WiD01XbvjzHE",
        "outputId": "3f83fb25-9081-4597-b321-7b165991aa7f"
      },
      "execution_count": null,
      "outputs": [
        {
          "output_type": "display_data",
          "data": {
            "text/plain": [
              "<Figure size 581.875x500 with 6 Axes>"
            ],
            "image/png": "[encoded data removed]"
          },
          "metadata": {}
        }
      ]
    },
    {
      "cell_type": "markdown",
      "source": [
        "This pair plot with colored hue ('Risk_Flag') effectively visualizes relationships and distributions within the dataset across multiple dimensions ('Income' and 'Age'). It helps in understanding potential correlations, differences in distributions based on risk flags, and provides a comprehensive overview of the dataset's features. Such visualizations are valuable for exploratory data analysis (EDA), identifying patterns, and informing further analysis or modeling decisions."
      ],
      "metadata": {
        "id": "Jm-sIpz7kBJX"
      }
    },
    {
      "cell_type": "markdown",
      "source": [
        "AGE AND INCOME"
      ],
      "metadata": {
        "id": "ZoLt7s0JkCwW"
      }
    },
    {
      "cell_type": "code",
      "source": [
        "data = {'Car_Ownership': ['Yes', 'No', 'Yes', 'No', 'Yes', 'No', 'Yes', 'No'],\n",
        "        'Income': [50000, 30000, 70000, 25000, 80000, 15000, 60000, 40000],\n",
        "        'Age': [35, 28, 42, 21, 55, 18, 38, 25],\n",
        "        'Risk_Flag': ['High', 'Low', 'High', 'Low', 'High', 'Low', 'High', 'Low']}\n",
        "df = pd.DataFrame(data)\n",
        "\n",
        "# Create a scatter plot with enhanced features\n",
        "plt.figure(figsize=(8, 6))  # Adjust figure size for better visibility\n",
        "sns.scatterplot(x='Age', y='Income', hue='Risk_Flag', data=df, s=100, alpha=0.7, palette='viridis')\n",
        "# s: Adjust point size, alpha: Adjust transparency, palette: Choose a color scheme\n",
        "\n",
        "plt.xlabel('Age (Years)', fontsize=12)  # Label x-axis with units\n",
        "plt.ylabel('Income ($)', fontsize=12)     # Label y-axis with units\n",
        "plt.title('Relationship between Age and Income', fontsize=14)  # Descriptive title\n",
        "plt.grid(True, linestyle='--', alpha=0.5)  # Add grid for better readability\n",
        "plt.legend(title='Risk Flag')  # Include a legend for the 'Risk_Flag'\n",
        "\n",
        "plt.show()"
      ],
      "metadata": {
        "colab": {
          "base_uri": "https://localhost:8080/",
          "height": 569
        },
        "id": "xfd9EREqkO2S",
        "outputId": "e0ef58cd-fb7d-41b7-f479-ab1472017f85"
      },
      "execution_count": null,
      "outputs": [
        {
          "output_type": "display_data",
          "data": {
            "text/plain": [
              "<Figure size 800x600 with 1 Axes>"
            ],
            "image/png": "[encoded data removed]"
          },
          "metadata": {}
        }
      ]
    },
    {
      "cell_type": "markdown",
      "source": [
        "This scatter plot effectively visualizes the relationship between age and income while highlighting differences in risk flags ('High' and 'Low'). It allows for easy identification of trends, clusters, and outliers within the dataset. Such visualizations are crucial for exploratory data analysis (EDA), enabling insights into relationships between variables and potential factors affecting risk assessments based on age and income levels."
      ],
      "metadata": {
        "id": "vi3qjxPPkYv4"
      }
    },
    {
      "cell_type": "code",
      "source": [
        "import pandas as pd\n",
        "import matplotlib.pyplot as plt\n",
        "\n",
        "\n",
        "\n",
        "# Calculate total counts for each house ownership\n",
        "house_ownership_counts = CSE[\"House_Ownership\"].value_counts().reset_index()\n",
        "house_ownership_counts.columns = [\"House_Ownership\", \"Total_Counts\"]\n",
        "print(\"Flag Distribution by House Ownership in CSE FILE\")\n",
        "plt.show()\n",
        "# Calculate risk flag percentages for each house ownership\n",
        "house_ownership_risks = CSE.groupby(\"House_Ownership\")[\"Risk_Flag\"].mean().reset_index()\n",
        "house_ownership_risks.columns = [\"House_Ownership\", \"Risk_Flag_Percent\"]\n",
        "\n",
        "# Merge dataframes\n",
        "merged_data = pd.merge(house_ownership_counts, house_ownership_risks, on=\"House_Ownership\")\n",
        "\n",
        "# Create a pie chart\n",
        "plt.figure(figsize=(8, 8))\n",
        "plt.pie(merged_data[\"Risk_Flag_Percent\"], labels=merged_data[\"House_Ownership\"], autopct=\"%1.1f%%\")\n",
        "plt.title(\"Risk\")"
      ],
      "metadata": {
        "colab": {
          "base_uri": "https://localhost:8080/",
          "height": 710
        },
        "id": "6j4E0r40kmEp",
        "outputId": "6242db45-591e-4024-b196-3a5d9d5c8a3a"
      },
      "execution_count": null,
      "outputs": [
        {
          "output_type": "stream",
          "name": "stdout",
          "text": [
            "Flag Distribution by House Ownership in CSE FILE\n"
          ]
        },
        {
          "output_type": "execute_result",
          "data": {
            "text/plain": [
              "Text(0.5, 1.0, 'Risk')"
            ]
          },
          "metadata": {},
          "execution_count": 22
        },
        {
          "output_type": "display_data",
          "data": {
            "text/plain": [
              "<Figure size 800x800 with 1 Axes>"
            ],
            "image/png": "[encoded data removed]"
          },
          "metadata": {}
        }
      ]
    },
    {
      "cell_type": "markdown",
      "source": [
        "The pie chart effectively summarizes the distribution of risk flags ('High' vs 'Low') across different categories of house ownership ('Yes' and 'No'). It provides a clear visual representation of how risk flags are distributed within each category, offering insights into potential relationships between house ownership status and risk assessment outcomes."
      ],
      "metadata": {
        "id": "Kc0Crzirk9OY"
      }
    },
    {
      "cell_type": "markdown",
      "metadata": {
        "id": "TDqSuXu8JfPB"
      },
      "source": [
        "**DATA VISUALISATION ANALYSIS REPORT**\n",
        "### Exploratory Data Analysis Report: Addressing High Defaulter Rates for Personal Loans\n",
        "\n",
        "#### Introduction\n",
        "\n",
        "Alpha Dreamers Banking Consortium, a prominent financial institution offering a range of financial products including business loans, savings accounts, and checking accounts, has identified a pressing issue with high defaulter rates in its personal loan portfolio. This challenge not only affects the institution's profitability but also raises concerns about risk management and customer satisfaction. To tackle this problem effectively, the institution has initiated a business intelligence initiative within the loans department. The objective is to utilize Exploratory Data Analysis (EDA) to automate processes, predict default probabilities, and formalize strategies that minimize defaulter rates.\n",
        "\n",
        "#### Data Collection and Preparation\n",
        "\n",
        "The initial phase of the EDA process involved gathering comprehensive data related to personal loans. The dataset includes various attributes such as borrower demographics (age, income), loan details (amount, interest rate, repayment period), credit history, and loan status (defaulted or not). Data cleaning and preprocessing were crucial steps to ensure the accuracy and reliability of the dataset. This included handling missing values, removing duplicates, and encoding categorical variables for further analysis.\n",
        "\n",
        "#### Descriptive Statistics and Visualization\n",
        "\n",
        "Descriptive statistics provided valuable insights into the central tendency, dispersion, and distribution of key variables within the dataset. Initial explorations included calculating measures such as mean, median, and standard deviation for numerical attributes like loan amount and borrower age. Visualizations such as histograms, box plots, and scatter plots were employed to visualize the distributions and relationships between variables. These visual tools helped in identifying outliers, understanding data skewness, and spotting potential patterns that could influence default rates.\n",
        "\n",
        "#### Identification of Factors Influencing Default Rates\n",
        "\n",
        "A critical aspect of the EDA was identifying factors that contribute significantly to default rates among personal loans. Correlation analysis was conducted to examine relationships between variables such as borrower income, loan amount, interest rate, and the likelihood of default. Feature importance techniques, including examining coefficients from logistic regression models or feature selection algorithms, helped prioritize factors influencing default probabilities. This analysis provided insights into which variables are most predictive of loan default and guided subsequent modeling efforts.\n",
        "\n",
        "#### Segmentation and Profiling\n",
        "\n",
        "Segmentation of borrowers based on key characteristics such as age groups, income levels, and credit scores was conducted to analyze variations in default behaviors across different segments. By profiling high-risk groups and understanding their unique characteristics, the institution gained insights into segment-specific risk factors and could tailor risk mitigation strategies accordingly. This approach also facilitated the identification of demographic or behavioral attributes that correlate with higher default rates, thereby informing targeted interventions and policy adjustments.\n",
        "\n",
        "#### Hypothesis Testing and Research Questions\n",
        "\n",
        "Several research questions guided the EDA process, aiming to uncover deeper insights into the dynamics of loan default:\n",
        "\n",
        "- What demographic factors (e.g., age, income) are associated with higher default rates?\n",
        "- How does credit history and previous borrowing behavior impact default probabilities?\n",
        "- Are there specific loan terms (e.g., interest rates, repayment periods) that correlate with increased default rates?\n",
        "\n",
        "Through rigorous hypothesis testing and statistical analysis, these questions were addressed, providing evidence-based answers that informed decision-making within the loans department.\n",
        "\n",
        "#### Insights and Recommendations\n",
        "\n",
        "Insights derived from the EDA process were instrumental in shaping actionable recommendations to mitigate high defaulter rates:\n",
        "\n",
        "- **Enhanced Risk Scoring Models**: Implementing advanced machine learning algorithms to develop robust risk scoring models that predict default probabilities more accurately.\n",
        "- **Targeted Customer Education**: Launching targeted financial literacy programs to educate borrowers about loan obligations and financial management practices.\n",
        "- **Policy Adjustments**: Revising underwriting criteria based on EDA findings to tighten credit assessments and reduce exposure to high-risk borrowers.\n",
        "- **Continuous Monitoring**: Establishing mechanisms for ongoing monitoring and evaluation of loan performance metrics to adapt strategies in response to evolving market conditions and borrower behaviors.\n",
        "\n",
        "#### Conclusion\n",
        "\n",
        "In conclusion, the Exploratory Data Analysis conducted by Alpha Dreamers Banking Consortium has provided deep insights into the factors contributing to high defaulter rates in personal loans. By leveraging data-driven approaches, the institution is well-positioned to enhance operational efficiencies, mitigate risks, and improve customer outcomes. Moving forward, the institution will continue to leverage EDA as a strategic tool for informed decision-making, ensuring sustainable growth and competitive advantage in the financial services industry.\n",
        "\n",
        "Through this proactive approach, Alpha Dreamers Banking Consortium reaffirms its commitment to excellence and innovation in leveraging data analytics to address complex challenges and deliver value to its stakeholders."
      ]
    },
    {
      "cell_type": "markdown",
      "metadata": {
        "id": "BpMKCFavmIxw"
      },
      "source": [
        "STEP 2: DATA CLEANING"
      ]
    },
    {
      "cell_type": "code",
      "execution_count": null,
      "metadata": {
        "colab": {
          "base_uri": "https://localhost:8080/"
        },
        "id": "1R-HXEggkNsi",
        "outputId": "7af9f8e1-790d-4d17-a7b9-f730e46a3eee"
      },
      "outputs": [
        {
          "output_type": "stream",
          "name": "stdout",
          "text": [
            "            Id   Income  Age  Experience Married/Single House_Ownership  \\\n",
            "0            1  1303834   23           3         single          rented   \n",
            "1            2  7574516   40          10         single          rented   \n",
            "2            3  3991815   66           4        married          rented   \n",
            "3            4  6256451   41           2         single          rented   \n",
            "4            5  5768871   47          11         single          rented   \n",
            "...        ...      ...  ...         ...            ...             ...   \n",
            "251995  251996  8154883   43          13         single          rented   \n",
            "251996  251997  2843572   26          10         single          rented   \n",
            "251997  251998  4522448   46           7         single          rented   \n",
            "251998  251999  6507128   45           0         single          rented   \n",
            "251999  252000  9070230   70          17         single          rented   \n",
            "\n",
            "       Car_Ownership           Profession                 CITY  \\\n",
            "0                 no  Mechanical_engineer                 Rewa   \n",
            "1                 no   Software_Developer             Parbhani   \n",
            "2                 no     Technical_writer            Alappuzha   \n",
            "3                yes   Software_Developer          Bhubaneswar   \n",
            "4                 no        Civil_servant  Tiruchirappalli[10]   \n",
            "...              ...                  ...                  ...   \n",
            "251995            no              Surgeon              Kolkata   \n",
            "251996            no         Army_officer                 Rewa   \n",
            "251997            no      Design_Engineer      Kalyan-Dombivli   \n",
            "251998            no     Graphic_Designer          Pondicherry   \n",
            "251999            no         Statistician                Avadi   \n",
            "\n",
            "                 STATE  CURRENT_JOB_YRS  CURRENT_HOUSE_YRS  Risk_Flag  \n",
            "0       Madhya_Pradesh                3                 13          0  \n",
            "1          Maharashtra                9                 13          0  \n",
            "2               Kerala                4                 10          0  \n",
            "3               Odisha                2                 12          1  \n",
            "4           Tamil_Nadu                3                 14          1  \n",
            "...                ...              ...                ...        ...  \n",
            "251995     West_Bengal                6                 11          0  \n",
            "251996  Madhya_Pradesh                6                 11          0  \n",
            "251997     Maharashtra                7                 12          0  \n",
            "251998      Puducherry                0                 10          0  \n",
            "251999      Tamil_Nadu                7                 11          0  \n",
            "\n",
            "[252000 rows x 13 columns]\n"
          ]
        }
      ],
      "source": [
        "df = pd.read_csv('/content/CSEdata.csv')\n",
        "\n",
        "# Identify missing values\n",
        "missing_values = df.isnull().sum()\n",
        "\n",
        "# Impute missing values\n",
        "# For numerical data\n",
        "numerical_cols = df.select_dtypes(include=['int', 'float']).columns\n",
        "df[numerical_cols] = df[numerical_cols].fillna(df[numerical_cols].mean())\n",
        "\n",
        "# For categorical data\n",
        "categorical_cols = df.select_dtypes(include=['object']).columns\n",
        "df[categorical_cols] = df[categorical_cols].fillna(df[categorical_cols].mode().iloc[0])\n",
        "\n",
        "# Drop rows/columns with excessive missing values\n",
        "# Drop columns with more than 50% missing values\n",
        "threshold = len(df) * 0.5\n",
        "df = df.dropna(axis=1, thresh=threshold)\n",
        "\n",
        "# Drop rows with missing values\n",
        "df = df.dropna()\n",
        "\n",
        "# Save the cleaned dataset\n",
        "df.to_csv('cleaned_dataset.csv', index=False)\n",
        "print(df)"
      ]
    },
    {
      "cell_type": "markdown",
      "metadata": {
        "id": "VOFOlxPoePFI"
      },
      "source": [
        "STEP 3: MACHINE LEARNING MODEL DEVELOPMENT"
      ]
    },
    {
      "cell_type": "code",
      "execution_count": null,
      "metadata": {
        "colab": {
          "base_uri": "https://localhost:8080/"
        },
        "id": "9Tdx9OuBa73Z",
        "outputId": "aaaa114a-7ff3-4780-bf9c-671287fc1f29"
      },
      "outputs": [
        {
          "output_type": "stream",
          "name": "stdout",
          "text": [
            "Accuracy: 0.8759325396825397\n"
          ]
        },
        {
          "output_type": "stream",
          "name": "stderr",
          "text": [
            "/usr/local/lib/python3.10/dist-packages/sklearn/linear_model/_logistic.py:458: ConvergenceWarning: lbfgs failed to converge (status=1):\n",
            "STOP: TOTAL NO. of ITERATIONS REACHED LIMIT.\n",
            "\n",
            "Increase the number of iterations (max_iter) or scale the data as shown in:\n",
            "    https://scikit-learn.org/stable/modules/preprocessing.html\n",
            "Please also refer to the documentation for alternative solver options:\n",
            "    https://scikit-learn.org/stable/modules/linear_model.html#logistic-regression\n",
            "  n_iter_i = _check_optimize_result(\n"
          ]
        }
      ],
      "source": [
        "import pandas as pd\n",
        "from sklearn.model_selection import train_test_split\n",
        "from sklearn.impute import SimpleImputer\n",
        "from sklearn.preprocessing import OneHotEncoder\n",
        "from sklearn.compose import ColumnTransformer\n",
        "from sklearn.pipeline import Pipeline\n",
        "from sklearn.linear_model import LogisticRegression\n",
        "from sklearn.metrics import accuracy_score\n",
        "\n",
        "# Load the dataset\n",
        "CSE= pd.read_csv('/content/CSEdata.csv')\n",
        "\n",
        "# Split features and target variable\n",
        "X = CSE.drop(columns=['Risk_Flag'])\n",
        "y = CSE['Risk_Flag']\n",
        "\n",
        "# Define numeric and categorical features\n",
        "numeric_features = ['Age', 'Experience', 'CURRENT_JOB_YRS', 'CURRENT_HOUSE_YRS']\n",
        "categorical_features = ['Married/Single', 'House_Ownership', 'Car_Ownership', 'Profession', 'CITY', 'STATE']\n",
        "\n",
        "# Splitting the data into train and test sets\n",
        "X_train, X_test, y_train, y_test = train_test_split(X, y, test_size=0.2, random_state=42)\n",
        "\n",
        "# Define preprocessing steps\n",
        "numeric_transformer = Pipeline(steps=[\n",
        "    ('imputer', SimpleImputer(strategy='mean'))\n",
        "])\n",
        "\n",
        "categorical_transformer = Pipeline(steps=[\n",
        "    ('imputer', SimpleImputer(strategy='most_frequent')),\n",
        "    ('onehot', OneHotEncoder(handle_unknown='ignore'))\n",
        "])\n",
        "\n",
        "preprocessor = ColumnTransformer(\n",
        "    transformers=[\n",
        "        ('num', numeric_transformer, numeric_features),\n",
        "        ('cat', categorical_transformer, categorical_features)\n",
        "    ])\n",
        "\n",
        "# Define model\n",
        "model = Pipeline(steps=[('preprocessor', preprocessor),\n",
        "                        ('classifier', LogisticRegression())])\n",
        "\n",
        "# Fit the model\n",
        "model.fit(X_train, y_train)\n",
        "\n",
        "# Predictions\n",
        "y_pred = model.predict(X_test)\n",
        "\n",
        "# Evaluate model performance\n",
        "accuracy = accuracy_score(y_test, y_pred)\n",
        "print(\"Accuracy:\", accuracy)\n"
      ]
    },
    {
      "cell_type": "markdown",
      "metadata": {
        "id": "rWHaihT8iQXK"
      },
      "source": [
        "LOGISTIC REGRESSION"
      ]
    },
    {
      "cell_type": "code",
      "execution_count": null,
      "metadata": {
        "colab": {
          "base_uri": "https://localhost:8080/"
        },
        "id": "UhJ__2wxHzLV",
        "outputId": "ff0deb19-b4ae-49fe-9d25-79ab8ed75249"
      },
      "outputs": [
        {
          "output_type": "stream",
          "name": "stdout",
          "text": [
            "Index(['Id', 'Income', 'Age', 'Experience', 'Married/Single',\n",
            "       'House_Ownership', 'Car_Ownership', 'Profession', 'CITY', 'STATE',\n",
            "       'CURRENT_JOB_YRS', 'CURRENT_HOUSE_YRS', 'Risk_Flag'],\n",
            "      dtype='object')\n",
            "Accuracy: 0.8759325396825397\n"
          ]
        }
      ],
      "source": [
        "from sklearn.model_selection import train_test_split\n",
        "from sklearn.linear_model import LogisticRegression\n",
        "from sklearn.preprocessing import StandardScaler\n",
        "from sklearn.metrics import accuracy_score\n",
        "import pandas as pd\n",
        "\n",
        "# Assuming df is your DataFrame containing the data\n",
        "\n",
        "# Check the column names in the DataFrame\n",
        "print(df.columns)\n",
        "\n",
        "# Split the data into features (X) and target variable (y)\n",
        "X = df.drop(['STATE', 'CITY', 'Profession'], axis=1)  # Use correct capitalization\n",
        "y = df['Risk_Flag'].astype(int)  # Convert to integers assuming Risk_Flag is binary\n",
        "\n",
        "# Split the data into training and testing sets\n",
        "X_train, X_test, y_train, y_test = train_test_split(X, y, test_size=0.2, random_state=42)\n",
        "\n",
        "# Identify numerical columns\n",
        "numerical_columns = ['Income', 'Age', 'Experience', 'CURRENT_JOB_YRS', 'CURRENT_HOUSE_YRS']\n",
        "\n",
        "# Exclude categorical columns from scaling\n",
        "X_train_numerical = X_train[numerical_columns]\n",
        "X_test_numerical = X_test[numerical_columns]\n",
        "\n",
        "# Scale the numerical features\n",
        "scaler = StandardScaler()\n",
        "X_train_scaled = scaler.fit_transform(X_train_numerical)\n",
        "X_test_scaled = scaler.transform(X_test_numerical)\n",
        "\n",
        "# Initialize and fit the logistic regression model\n",
        "model = LogisticRegression(max_iter=1000)\n",
        "model.fit(X_train_scaled, y_train)\n",
        "\n",
        "# Predictions\n",
        "y_pred = model.predict(X_test_scaled)\n",
        "\n",
        "# Calculate accuracy\n",
        "accuracy = accuracy_score(y_test, y_pred)\n",
        "print(\"Accuracy:\", accuracy)\n"
      ]
    },
    {
      "cell_type": "markdown",
      "metadata": {
        "id": "L6RALj97imDq"
      },
      "source": [
        "RANDOM FOREST"
      ]
    },
    {
      "cell_type": "code",
      "execution_count": null,
      "metadata": {
        "colab": {
          "base_uri": "https://localhost:8080/"
        },
        "id": "OilMt0RHQx51",
        "outputId": "d1492f28-3c98-4793-c6d2-a252a298169d"
      },
      "outputs": [
        {
          "output_type": "stream",
          "name": "stdout",
          "text": [
            "Accuracy: 0.8970833333333333\n"
          ]
        }
      ],
      "source": [
        "from sklearn.model_selection import train_test_split\n",
        "from sklearn.ensemble import RandomForestClassifier\n",
        "from sklearn.preprocessing import StandardScaler, OneHotEncoder\n",
        "from sklearn.compose import ColumnTransformer\n",
        "from sklearn.pipeline import Pipeline\n",
        "from sklearn.metrics import accuracy_score\n",
        "import pandas as pd\n",
        "\n",
        "# Assuming df is your DataFrame containing the data\n",
        "\n",
        "# Split the data into features (X) and target variable (y)\n",
        "X = df.drop(['STATE', 'CITY', 'Profession'], axis=1)  # Use correct capitalization\n",
        "y = df['Risk_Flag']  # Assuming 'Risk_Flag' is the target column\n",
        "\n",
        "# Convert 'Risk_Flag' to integer type if it's not already\n",
        "y = y.astype(int)\n",
        "\n",
        "# Identify numerical columns and categorical columns\n",
        "numerical_columns = ['Income', 'Age', 'Experience', 'CURRENT_JOB_YRS', 'CURRENT_HOUSE_YRS']\n",
        "categorical_columns = ['Married/Single', 'House_Ownership', 'Car_Ownership']  # Add other categorical columns as needed\n",
        "\n",
        "# Define preprocessing steps for numerical and categorical features\n",
        "numerical_transformer = StandardScaler()\n",
        "categorical_transformer = OneHotEncoder()\n",
        "\n",
        "# Combine preprocessing steps\n",
        "preprocessor = ColumnTransformer(\n",
        "    transformers=[\n",
        "        ('num', numerical_transformer, numerical_columns),\n",
        "        ('cat', categorical_transformer, categorical_columns)\n",
        "    ])\n",
        "\n",
        "# Create pipeline with preprocessing and model\n",
        "pipeline = Pipeline(steps=[('preprocessor', preprocessor),\n",
        "                           ('classifier', RandomForestClassifier(n_estimators=100, random_state=42))])\n",
        "\n",
        "# Split the data into training and testing sets\n",
        "X_train, X_test, y_train, y_test = train_test_split(X, y, test_size=0.2, random_state=42)\n",
        "\n",
        "# Fit the pipeline (preprocessing and model)\n",
        "pipeline.fit(X_train, y_train)\n",
        "\n",
        "# Predictions\n",
        "y_pred = pipeline.predict(X_test)\n",
        "\n",
        "# Calculate accuracy\n",
        "accuracy = accuracy_score(y_test, y_pred)\n",
        "print(\"Accuracy:\", accuracy)\n"
      ]
    },
    {
      "cell_type": "markdown",
      "metadata": {
        "id": "54Tda2uSlAjP"
      },
      "source": [
        "GRADIENT BOOSTING MACHINES"
      ]
    },
    {
      "cell_type": "code",
      "execution_count": null,
      "metadata": {
        "colab": {
          "base_uri": "https://localhost:8080/"
        },
        "id": "I-XK6Li1JgUa",
        "outputId": "18d96a00-2610-4c22-8a33-92917c791db7"
      },
      "outputs": [
        {
          "output_type": "stream",
          "name": "stdout",
          "text": [
            "Accuracy: 0.8760912698412698\n"
          ]
        }
      ],
      "source": [
        "from sklearn.model_selection import train_test_split\n",
        "from sklearn.ensemble import GradientBoostingClassifier\n",
        "from sklearn.preprocessing import StandardScaler, OneHotEncoder, LabelEncoder\n",
        "from sklearn.compose import ColumnTransformer\n",
        "from sklearn.pipeline import Pipeline\n",
        "from sklearn.metrics import accuracy_score\n",
        "import pandas as pd\n",
        "\n",
        "# Assuming df is your DataFrame containing the data\n",
        "\n",
        "# Split the data into features (X) and target variable (y)\n",
        "X = df.drop(['STATE', 'CITY', 'Profession'], axis=1)  # Use correct capitalization\n",
        "y = df['Risk_Flag']  # Assuming 'Risk_Flag' is the target column\n",
        "\n",
        "# Convert y to categorical if it's not already\n",
        "label_encoder = LabelEncoder()\n",
        "y = label_encoder.fit_transform(y)\n",
        "\n",
        "# Identify numerical columns and categorical columns\n",
        "numerical_columns = ['Income', 'Age', 'Experience', 'CURRENT_JOB_YRS', 'CURRENT_HOUSE_YRS']\n",
        "categorical_columns = ['Married/Single', 'House_Ownership', 'Car_Ownership']  # Add other categorical columns as needed\n",
        "\n",
        "# Define preprocessing steps for numerical and categorical features\n",
        "numerical_transformer = StandardScaler()\n",
        "categorical_transformer = OneHotEncoder()\n",
        "\n",
        "# Combine preprocessing steps\n",
        "preprocessor = ColumnTransformer(\n",
        "    transformers=[\n",
        "        ('num', numerical_transformer, numerical_columns),\n",
        "        ('cat', categorical_transformer, categorical_columns)\n",
        "    ])\n",
        "\n",
        "# Create pipeline with preprocessing and model\n",
        "pipeline = Pipeline(steps=[('preprocessor', preprocessor),\n",
        "                           ('classifier', GradientBoostingClassifier(n_estimators=100, random_state=42))])\n",
        "\n",
        "# Split the data into training and testing sets\n",
        "X_train, X_test, y_train, y_test = train_test_split(X, y, test_size=0.2, random_state=42)\n",
        "\n",
        "# Fit the pipeline (preprocessing and model)\n",
        "pipeline.fit(X_train, y_train)\n",
        "\n",
        "# Predictions\n",
        "y_pred = pipeline.predict(X_test)\n",
        "\n",
        "# Calculate accuracy\n",
        "accuracy = accuracy_score(y_test, y_pred)\n",
        "print(\"Accuracy:\", accuracy)\n"
      ]
    },
    {
      "cell_type": "markdown",
      "metadata": {
        "id": "9lc1DEean8uJ"
      },
      "source": [
        "STEP 4: MODEL PERFORMANCE EVALUATION"
      ]
    },
    {
      "cell_type": "markdown",
      "metadata": {
        "id": "1dSHOszyf7Ke"
      },
      "source": [
        "1. Analyze the evaluation metrics:\n",
        "We'll calculate accuracy, precision, recall, and F1-score using scikit-learn's classification metrics."
      ]
    },
    {
      "cell_type": "code",
      "execution_count": null,
      "metadata": {
        "colab": {
          "base_uri": "https://localhost:8080/"
        },
        "id": "KvPwbJQ5mteo",
        "outputId": "7032dd74-a9b6-445f-d022-3411c0244256"
      },
      "outputs": [
        {
          "output_type": "stream",
          "name": "stdout",
          "text": [
            "Logistic Regression:\n",
            "Accuracy: 0.8759325396825397\n",
            "Precision: 1.0\n",
            "Recall: 0.0\n",
            "F1 Score: 0.0\n",
            "\n",
            "Random Forest Classifier:\n",
            "Accuracy: 0.8970833333333333\n",
            "Precision: 0.5936731107205624\n",
            "Recall: 0.5402206940668479\n",
            "F1 Score: 0.5656870133132379\n",
            "\n",
            "Gradient Boosting Classifier:\n",
            "Accuracy: 0.8760912698412698\n",
            "Precision: 0.7\n",
            "Recall: 0.0022389253158483927\n",
            "F1 Score: 0.004463574047505181\n"
          ]
        }
      ],
      "source": [
        "from sklearn.metrics import precision_score, recall_score, f1_score\n",
        "\n",
        "# Define pipelines for each model\n",
        "pipeline_lr = Pipeline(steps=[('preprocessor', preprocessor),\n",
        "                              ('classifier', LogisticRegression(max_iter=1000))])\n",
        "\n",
        "pipeline_rf = Pipeline(steps=[('preprocessor', preprocessor),\n",
        "                              ('classifier', RandomForestClassifier(n_estimators=100, random_state=42))])\n",
        "\n",
        "pipeline_gb = Pipeline(steps=[('preprocessor', preprocessor),\n",
        "                              ('classifier', GradientBoostingClassifier(n_estimators=100, random_state=42))])\n",
        "\n",
        "# Fit each pipeline\n",
        "pipeline_lr.fit(X_train, y_train)\n",
        "pipeline_rf.fit(X_train, y_train)\n",
        "pipeline_gb.fit(X_train, y_train)\n",
        "\n",
        "# Predictions for each model\n",
        "y_pred_lr = pipeline_lr.predict(X_test)\n",
        "y_pred_rf = pipeline_rf.predict(X_test)\n",
        "y_pred_gb = pipeline_gb.predict(X_test)\n",
        "\n",
        "# Define a function to compute evaluation metrics\n",
        "def evaluate_model(y_true, y_pred):\n",
        "    accuracy = accuracy_score(y_true, y_pred)\n",
        "    precision = precision_score(y_true, y_pred, zero_division=1)  # Handle division by zero\n",
        "    recall = recall_score(y_true, y_pred)\n",
        "    f1 = f1_score(y_true, y_pred)\n",
        "    return accuracy, precision, recall, f1\n",
        "\n",
        "\n",
        "# Evaluate Logistic Regression model\n",
        "lr_accuracy, lr_precision, lr_recall, lr_f1 = evaluate_model(y_test, y_pred_lr)\n",
        "\n",
        "print(\"Logistic Regression:\")\n",
        "print(\"Accuracy:\", lr_accuracy)\n",
        "print(\"Precision:\", lr_precision)\n",
        "print(\"Recall:\", lr_recall)\n",
        "print(\"F1 Score:\", lr_f1)\n",
        "print()\n",
        "\n",
        "# Evaluate Random Forest Classifier model\n",
        "rf_accuracy, rf_precision, rf_recall, rf_f1 = evaluate_model(y_test, y_pred_rf)\n",
        "\n",
        "print(\"Random Forest Classifier:\")\n",
        "print(\"Accuracy:\", rf_accuracy)\n",
        "print(\"Precision:\", rf_precision)\n",
        "print(\"Recall:\", rf_recall)\n",
        "print(\"F1 Score:\", rf_f1)\n",
        "print()\n",
        "\n",
        "# Evaluate Gradient Boosting Classifier model\n",
        "gb_accuracy, gb_precision, gb_recall, gb_f1 = evaluate_model(y_test, y_pred_gb)\n",
        "\n",
        "print(\"Gradient Boosting Classifier:\")\n",
        "print(\"Accuracy:\", gb_accuracy)\n",
        "print(\"Precision:\", gb_precision)\n",
        "print(\"Recall:\", gb_recall)\n",
        "print(\"F1 Score:\", gb_f1)\n"
      ]
    },
    {
      "cell_type": "markdown",
      "metadata": {
        "id": "OXK8Fvwzotrd"
      },
      "source": [
        "Fine-tune the model:\n",
        "Apply techniques like parameter tuning, feature selection, or model ensembling to improve performance.\n"
      ]
    },
    {
      "cell_type": "code",
      "execution_count": null,
      "metadata": {
        "colab": {
          "base_uri": "https://localhost:8080/"
        },
        "id": "9X9UKa_no-AY",
        "outputId": "11961409-1bcb-48e4-9f50-e2f197228e4c"
      },
      "outputs": [
        {
          "output_type": "stream",
          "name": "stdout",
          "text": [
            "Logistic Regression:\n",
            "Accuracy: 0.8759325396825397\n",
            "Precision: 1.0\n",
            "Recall: 0.0\n",
            "F1 Score: 0.0\n"
          ]
        }
      ],
      "source": [
        "#LOGISTIC REGRESSION\n",
        "from sklearn.model_selection import GridSearchCV\n",
        "\n",
        "# Define hyperparameters to tune\n",
        "param_grid = {'C': [0.001, 0.01, 0.1, 1, 10, 100]}\n",
        "\n",
        "# Perform Grid Search to find the best hyperparameters\n",
        "grid_search = GridSearchCV(LogisticRegression(max_iter=1000), param_grid, cv=3)\n",
        "grid_search.fit(X_train_scaled, y_train)\n",
        "\n",
        "# Get the best hyperparameters\n",
        "best_params = grid_search.best_params_\n",
        "\n",
        "# Initialize and fit the Logistic Regression model with the best hyperparameters\n",
        "lr_model = LogisticRegression(max_iter=1000, **best_params)\n",
        "lr_model.fit(X_train_scaled, y_train)\n",
        "\n",
        "# Predictions\n",
        "y_pred_lr = lr_model.predict(X_test_scaled)\n",
        "\n",
        "# Evaluate the Logistic Regression model\n",
        "lr_accuracy, lr_precision, lr_recall, lr_f1 = evaluate_model(y_test, y_pred_lr)\n",
        "\n",
        "print(\"Logistic Regression:\")\n",
        "print(\"Accuracy:\", lr_accuracy)\n",
        "print(\"Precision:\", lr_precision)\n",
        "print(\"Recall:\", lr_recall)\n",
        "print(\"F1 Score:\", lr_f1)\n"
      ]
    },
    {
      "cell_type": "markdown",
      "metadata": {
        "id": "3JFr2TCQpavT"
      },
      "source": [
        "RANDOM FOREST"
      ]
    },
    {
      "cell_type": "code",
      "execution_count": null,
      "metadata": {
        "colab": {
          "base_uri": "https://localhost:8080/"
        },
        "id": "4yWImLycSohh",
        "outputId": "a539e3cf-d526-4552-d2f5-c114072e0d17"
      },
      "outputs": [
        {
          "output_type": "stream",
          "name": "stdout",
          "text": [
            "Random Forest Accuracy: 0.9060912698412699\n"
          ]
        }
      ],
      "source": [
        "import pandas as pd\n",
        "from sklearn.model_selection import train_test_split\n",
        "from sklearn.ensemble import RandomForestClassifier\n",
        "from sklearn.preprocessing import OneHotEncoder\n",
        "\n",
        "# Load your data into a DataFrame\n",
        "CSE = pd.read_csv('/content/CSEdata.csv')  # Replace with the path to your dataset file\n",
        "\n",
        "# Extract features and target variable\n",
        "X = CSE.drop(['STATE', 'CITY', 'Profession', 'Risk_Flag'], axis=1)  # Drop unnecessary columns including the target\n",
        "y = CSE['Risk_Flag']  # Assuming 'Risk_Flag' is the target column\n",
        "\n",
        "# Split the data into training and testing sets\n",
        "X_train, X_test, y_train, y_test = train_test_split(X, y, test_size=0.2, random_state=42)\n",
        "\n",
        "# Perform one-hot encoding for categorical variables\n",
        "categorical_cols = ['Married/Single', 'House_Ownership', 'Car_Ownership']\n",
        "encoder = OneHotEncoder(sparse_output=False, handle_unknown='ignore')\n",
        "\n",
        "# Fit the encoder to the training data and transform both training and testing data\n",
        "X_train_encoded = encoder.fit_transform(X_train[categorical_cols])\n",
        "X_test_encoded = encoder.transform(X_test[categorical_cols])\n",
        "\n",
        "# Remove the original categorical columns from X_train and X_test\n",
        "X_train = X_train.drop(columns=categorical_cols)\n",
        "X_test = X_test.drop(columns=categorical_cols)\n",
        "\n",
        "# Concatenate the encoded features with the original features\n",
        "X_train_encoded_df = pd.DataFrame(X_train_encoded, columns=encoder.get_feature_names_out(categorical_cols), index=X_train.index)\n",
        "X_test_encoded_df = pd.DataFrame(X_test_encoded, columns=encoder.get_feature_names_out(categorical_cols), index=X_test.index)\n",
        "X_train = pd.concat([X_train, X_train_encoded_df], axis=1)\n",
        "X_test = pd.concat([X_test, X_test_encoded_df], axis=1)\n",
        "\n",
        "# Initialize and fit the Random Forest model\n",
        "rf_model = RandomForestClassifier(n_estimators=100, random_state=42)\n",
        "rf_model.fit(X_train, y_train)\n",
        "\n",
        "# Evaluate the Random Forest model\n",
        "rf_accuracy = rf_model.score(X_test, y_test)\n",
        "\n",
        "print(\"Random Forest Accuracy:\", rf_accuracy)\n"
      ]
    },
    {
      "cell_type": "markdown",
      "metadata": {
        "id": "AgIYxo9up7vZ"
      },
      "source": [
        "GRADIENT BOOSTING MACHINE"
      ]
    },
    {
      "cell_type": "code",
      "execution_count": null,
      "metadata": {
        "id": "6Ise6XNkPxop",
        "colab": {
          "base_uri": "https://localhost:8080/"
        },
        "outputId": "9b414e6f-321a-4520-cc7c-cf72f0fdaf45"
      },
      "outputs": [
        {
          "output_type": "stream",
          "name": "stdout",
          "text": [
            "Before preprocessing:\n",
            "X_train shape: (201600, 9)\n",
            "y_train shape: (201600,)\n",
            "X_test shape: (50400, 9)\n",
            "y_test shape: (50400,)\n",
            "\n",
            "After preprocessing:\n",
            "X_train_imputed shape: (201600, 13)\n",
            "X_test_imputed shape: (50400, 13)\n",
            "y_train shape: (201600,)\n",
            "y_test shape: (50400,)\n",
            "\n",
            "Gradient Boosting Machine Accuracy: 0.8760515873015873\n"
          ]
        }
      ],
      "source": [
        "import pandas as pd\n",
        "from sklearn.model_selection import train_test_split\n",
        "from sklearn.ensemble import GradientBoostingClassifier\n",
        "from sklearn.preprocessing import OneHotEncoder\n",
        "from sklearn.impute import SimpleImputer\n",
        "\n",
        "# Load your data into a DataFrame\n",
        "CSE = pd.read_csv('/content/CSEdata.csv')  # Replace '/content/CSEdata.csv' with the path to your dataset file\n",
        "\n",
        "# Extract features and target variable\n",
        "X = CSE.drop(['Risk_Flag', 'STATE', 'CITY', 'Profession'], axis=1)  # Drop unnecessary columns and the target column\n",
        "y = CSE['Risk_Flag']  # Assuming 'Risk_Flag' is the target column\n",
        "\n",
        "# Split the data into training and testing sets\n",
        "X_train, X_test, y_train, y_test = train_test_split(X, y, test_size=0.2, random_state=42)\n",
        "\n",
        "print(\"Before preprocessing:\")\n",
        "print(\"X_train shape:\", X_train.shape)\n",
        "print(\"y_train shape:\", y_train.shape)\n",
        "print(\"X_test shape:\", X_test.shape)\n",
        "print(\"y_test shape:\", y_test.shape)\n",
        "\n",
        "# Perform one-hot encoding for categorical variables\n",
        "categorical_cols = ['Married/Single', 'House_Ownership', 'Car_Ownership']\n",
        "encoder = OneHotEncoder(sparse_output=False, handle_unknown='ignore')\n",
        "\n",
        "# Fit the encoder to the training data and transform both training and testing data\n",
        "X_train_encoded = encoder.fit_transform(X_train[categorical_cols])\n",
        "X_test_encoded = encoder.transform(X_test[categorical_cols])\n",
        "\n",
        "# Remove the original categorical columns from X_train and X_test\n",
        "X_train = X_train.drop(columns=categorical_cols)\n",
        "X_test = X_test.drop(columns=categorical_cols)\n",
        "\n",
        "# Concatenate the encoded features with the original features\n",
        "X_train_encoded_df = pd.DataFrame(X_train_encoded, columns=encoder.get_feature_names_out(categorical_cols), index=X_train.index)\n",
        "X_test_encoded_df = pd.DataFrame(X_test_encoded, columns=encoder.get_feature_names_out(categorical_cols), index=X_test.index)\n",
        "X_train = pd.concat([X_train, X_train_encoded_df], axis=1)\n",
        "X_test = pd.concat([X_test, X_test_encoded_df], axis=1)\n",
        "\n",
        "# Initialize SimpleImputer to impute missing values with mean\n",
        "imputer = SimpleImputer(strategy='mean')\n",
        "\n",
        "# Fit the imputer on the training data and transform both training and testing data\n",
        "X_train_imputed = imputer.fit_transform(X_train)\n",
        "X_test_imputed = imputer.transform(X_test)\n",
        "\n",
        "# Check shapes after preprocessing\n",
        "print(\"\\nAfter preprocessing:\")\n",
        "print(\"X_train_imputed shape:\", X_train_imputed.shape)\n",
        "print(\"X_test_imputed shape:\", X_test_imputed.shape)\n",
        "print(\"y_train shape:\", y_train.shape)\n",
        "print(\"y_test shape:\", y_test.shape)\n",
        "\n",
        "# Initialize and fit the Gradient Boosting Machine model\n",
        "gb_model = GradientBoostingClassifier(random_state=42)\n",
        "gb_model.fit(X_train_imputed, y_train)\n",
        "\n",
        "# Evaluate the Gradient Boosting Machine model\n",
        "gb_accuracy = gb_model.score(X_test_imputed, y_test)\n",
        "\n",
        "print(\"\\nGradient Boosting Machine Accuracy:\", gb_accuracy)\n"
      ]
    },
    {
      "cell_type": "markdown",
      "metadata": {
        "id": "YnPmL6_y3bHP"
      },
      "source": [
        "OTHER MATRIX TO MEASURE OR EVALUATE ITS PROCESS"
      ]
    },
    {
      "cell_type": "code",
      "execution_count": null,
      "metadata": {
        "id": "Jb-thrmG5g3N",
        "colab": {
          "base_uri": "https://localhost:8080/"
        },
        "outputId": "4757686f-18ea-4bf9-a0bb-1ef7fd2c5cbf"
      },
      "outputs": [
        {
          "output_type": "stream",
          "name": "stdout",
          "text": [
            "Mean Absolute Error (MAE): 0.3333333333333333\n",
            "Mean Squared Error (MSE): 0.3333333333333333\n",
            "Mean Squared Logarithmic Error (MSLE): 0.16015100463940046\n",
            "R-squared (R2 Score): -0.4999999999999998\n",
            "Accuracy: 0.6666666666666666\n",
            "Precision: 0.75\n",
            "Recall: 0.75\n",
            "F1 Score: 0.75\n",
            "ROC AUC Score: 0.625\n",
            "Confusion Matrix:\n",
            " [[1 1]\n",
            " [1 3]]\n",
            "Cohen's Kappa: 0.25\n",
            "Matthews Correlation Coefficient (MCC): 0.25\n",
            "Spearman's Rank Correlation Coefficient: 0.25000000000000006\n",
            "Kendall's Tau: 0.24999999999999997\n"
          ]
        }
      ],
      "source": [
        "import numpy as np\n",
        "from sklearn.metrics import mean_absolute_error, mean_squared_error, mean_squared_log_error, \\\n",
        "    r2_score, accuracy_score, precision_score, recall_score, f1_score, \\\n",
        "    roc_auc_score, confusion_matrix, cohen_kappa_score, matthews_corrcoef\n",
        "from scipy.stats import spearmanr, kendalltau\n",
        "\n",
        "# Example true and predicted values (replace with your actual values)\n",
        "y_true = np.array([1, 0, 1, 1, 0, 1])\n",
        "y_pred = np.array([1, 1, 1, 1, 0, 0])\n",
        "\n",
        "# Mean Absolute Error (MAE)\n",
        "mae = mean_absolute_error(y_true, y_pred)\n",
        "\n",
        "# Mean Squared Error (MSE)\n",
        "mse = mean_squared_error(y_true, y_pred)\n",
        "\n",
        "# Mean Squared Logarithmic Error (MSLE)\n",
        "msle = mean_squared_log_error(y_true, y_pred)\n",
        "\n",
        "# R-squared (Coefficient of Determination)\n",
        "r_squared = r2_score(y_true, y_pred)\n",
        "\n",
        "# Accuracy\n",
        "accuracy = accuracy_score(y_true, y_pred)\n",
        "\n",
        "# Precision\n",
        "precision = precision_score(y_true, y_pred)\n",
        "\n",
        "# Recall\n",
        "recall = recall_score(y_true, y_pred)\n",
        "\n",
        "# F1 Score\n",
        "f1 = f1_score(y_true, y_pred)\n",
        "\n",
        "# ROC AUC Score\n",
        "roc_auc = roc_auc_score(y_true, y_pred)\n",
        "\n",
        "# Confusion Matrix\n",
        "conf_matrix = confusion_matrix(y_true, y_pred)\n",
        "\n",
        "# Cohen's Kappa\n",
        "kappa = cohen_kappa_score(y_true, y_pred)\n",
        "\n",
        "# Matthews Correlation Coefficient (MCC)\n",
        "mcc = matthews_corrcoef(y_true, y_pred)\n",
        "\n",
        "# Spearman's Rank Correlation Coefficient\n",
        "spearman_corr, _ = spearmanr(y_true, y_pred)\n",
        "\n",
        "# Kendall's Tau\n",
        "kendall_tau, _ = kendalltau(y_true, y_pred)\n",
        "\n",
        "print(\"Mean Absolute Error (MAE):\", mae)\n",
        "print(\"Mean Squared Error (MSE):\", mse)\n",
        "print(\"Mean Squared Logarithmic Error (MSLE):\", msle)\n",
        "print(\"R-squared (R2 Score):\", r_squared)\n",
        "print(\"Accuracy:\", accuracy)\n",
        "print(\"Precision:\", precision)\n",
        "print(\"Recall:\", recall)\n",
        "print(\"F1 Score:\", f1)\n",
        "print(\"ROC AUC Score:\", roc_auc)\n",
        "print(\"Confusion Matrix:\\n\", conf_matrix)\n",
        "print(\"Cohen's Kappa:\", kappa)\n",
        "print(\"Matthews Correlation Coefficient (MCC):\", mcc)\n",
        "print(\"Spearman's Rank Correlation Coefficient:\", spearman_corr)\n",
        "print(\"Kendall's Tau:\", kendall_tau)\n"
      ]
    },
    {
      "cell_type": "markdown",
      "metadata": {
        "id": "WTepDGLe3nMP"
      },
      "source": [
        "THE TEST DATA THAT YOU EXCLUDED FROM THE TRAINING CREATE A CODE THAT TESTS THE ABILITY OF THE MACHINE LEARNING TO PREDICT THE ACTUAL RESULTS PRINT OUT ITS PREDICTIONS\n",
        "\n"
      ]
    },
    {
      "cell_type": "code",
      "execution_count": null,
      "metadata": {
        "id": "NdTjQaYcO7rJ",
        "colab": {
          "base_uri": "https://localhost:8080/"
        },
        "outputId": "2c3b6def-75bd-4b2d-84f7-424c2f77c778"
      },
      "outputs": [
        {
          "output_type": "stream",
          "name": "stdout",
          "text": [
            "X_train_imputed shape: (4, 12)\n",
            "y_train shape: (4,)\n",
            "Shapes are consistent.\n"
          ]
        }
      ],
      "source": [
        "import pandas as pd\n",
        "from sklearn.impute import SimpleImputer\n",
        "from sklearn.model_selection import train_test_split\n",
        "\n",
        "# Sample data creation with the specified columns (replace this with your actual data loading process)\n",
        "data = {\n",
        "    'Id': [1, 2, 3, 4, 5],\n",
        "    'Income': [50000, 60000, None, 80000, 90000],\n",
        "    'Age': [25, 35, 45, None, 55],\n",
        "    'Experience': [2, 5, None, 10, 15],\n",
        "    'Married/Single': ['Single', 'Married', 'Single', 'Married', 'Single'],\n",
        "    'House_Ownership': ['Owned', 'Rented', 'Owned', 'Rented', 'Owned'],\n",
        "    'Car_Ownership': ['Yes', 'No', 'Yes', 'No', 'Yes'],\n",
        "    'Profession': ['Engineer', 'Doctor', 'Artist', 'Lawyer', 'Scientist'],\n",
        "    'CITY': ['CityA', 'CityB', 'CityC', 'CityD', 'CityE'],\n",
        "    'STATE': ['StateA', 'StateB', 'StateC', 'StateD', 'StateE'],\n",
        "    'CURRENT_JOB_YRS': [1, 2, 3, 4, 5],\n",
        "    'CURRENT_HOUSE_YRS': [2, 3, 4, 5, 6],\n",
        "    'Risk_Flag': [0, 1, 0, 1, 0]\n",
        "}\n",
        "\n",
        "# Create a DataFrame\n",
        "df = pd.DataFrame(data)\n",
        "\n",
        "# Separate features and target\n",
        "X = df.drop(columns=['Risk_Flag'])\n",
        "y = df['Risk_Flag']\n",
        "\n",
        "# Split the data\n",
        "X_train, X_test, y_train, y_test = train_test_split(X, y, test_size=0.2, random_state=42)\n",
        "\n",
        "# Handle missing values using SimpleImputer\n",
        "# Assuming numerical columns to impute are 'Income', 'Age', and 'Experience'\n",
        "imputer = SimpleImputer(strategy='mean')\n",
        "X_train_imputed = X_train.copy()\n",
        "X_train_imputed[['Income', 'Age', 'Experience']] = imputer.fit_transform(X_train[['Income', 'Age', 'Experience']])\n",
        "\n",
        "# Verify the shape of X_train_imputed and y_train\n",
        "print(\"X_train_imputed shape:\", X_train_imputed.shape)\n",
        "print(\"y_train shape:\", y_train.shape)\n",
        "\n",
        "# If there is a mismatch, investigate and correct the issue accordingly\n",
        "if X_train_imputed.shape[0] != y_train.shape[0]:\n",
        "    print(\"Mismatch detected: Number of samples in X_train_imputed and y_train do not match.\")\n",
        "    # Additional investigation and correction code goes here\n",
        "else:\n",
        "    print(\"Shapes are consistent.\")\n",
        "\n"
      ]
    }
  ],
  "metadata": {
    "colab": {
      "provenance": []
    },
    "kernelspec": {
      "display_name": "Python 3",
      "name": "python3"
    },
    "language_info": {
      "name": "python"
    }
  },
  "nbformat": 4,
  "nbformat_minor": 0
}